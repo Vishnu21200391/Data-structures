{
 "cells": [
  {
   "cell_type": "code",
   "execution_count": 1,
   "id": "6e9160e8-fdc9-4c8b-a181-9da9fb0daf5e",
   "metadata": {},
   "outputs": [
    {
     "name": "stdin",
     "output_type": "stream",
     "text": [
      "Enter the first number (m):  14\n",
      "Enter the second number (n):  63\n"
     ]
    },
    {
     "name": "stdout",
     "output_type": "stream",
     "text": [
      "The GCD of 14 and 63 is: 7\n"
     ]
    }
   ],
   "source": [
    "def simple_gcd(m, n):\n",
    "    fm = []\n",
    "    fn = []\n",
    "    for i in range(1, m + 1):\n",
    "        if m % i == 0:\n",
    "            fm.append(i)\n",
    "    for j in range(1, n + 1):\n",
    "        if n % j == 0:\n",
    "            fn.append(j)\n",
    "    cf = []\n",
    "    for f in fm:\n",
    "        if f in fn:\n",
    "            cf.append(f)\n",
    "    return max(cf)\n",
    "m = int(input(\"Enter the first number (m): \"))\n",
    "n = int(input(\"Enter the second number (n): \"))\n",
    "print(\"The GCD of\", m, \"and\", n, \"is:\", simple_gcd(m, n))"
   ]
  },
  {
   "cell_type": "code",
   "execution_count": 3,
   "id": "eb555bad-4762-4ae1-a36d-203e9fa5273e",
   "metadata": {},
   "outputs": [
    {
     "name": "stdin",
     "output_type": "stream",
     "text": [
      "Enter the first number (m):  14\n",
      "Enter the second number (n):  63\n"
     ]
    },
    {
     "name": "stdout",
     "output_type": "stream",
     "text": [
      "The GCD of 14 and 63 is: 7\n"
     ]
    }
   ],
   "source": [
    "def gcd(m,n):\n",
    "    cf = []\n",
    "    for i in range(1,min(m,n)+1):\n",
    "        if(m%i)==0 and (n%j)==0:\n",
    "            cf.append(i)\n",
    "    return max(cf)\n",
    "m = int(input(\"Enter the first number (m): \"))\n",
    "n = int(input(\"Enter the second number (n): \"))\n",
    "print(\"The GCD of\", m, \"and\", n, \"is:\", simple_gcd(m, n))"
   ]
  },
  {
   "cell_type": "code",
   "execution_count": null,
   "id": "8256eba4-638a-4b7b-9336-276d4dd3e89f",
   "metadata": {},
   "outputs": [],
   "source": []
  }
 ],
 "metadata": {
  "kernelspec": {
   "display_name": "Python 3 (ipykernel)",
   "language": "python",
   "name": "python3"
  },
  "language_info": {
   "codemirror_mode": {
    "name": "ipython",
    "version": 3
   },
   "file_extension": ".py",
   "mimetype": "text/x-python",
   "name": "python",
   "nbconvert_exporter": "python",
   "pygments_lexer": "ipython3",
   "version": "3.12.4"
  }
 },
 "nbformat": 4,
 "nbformat_minor": 5
}
