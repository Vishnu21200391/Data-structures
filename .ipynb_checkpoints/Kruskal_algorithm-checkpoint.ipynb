{
  "nbformat": 4,
  "nbformat_minor": 0,
  "metadata": {
    "colab": {
      "provenance": []
    },
    "kernelspec": {
      "name": "python3",
      "display_name": "Python 3"
    },
    "language_info": {
      "name": "python"
    }
  },
  "cells": [
    {
      "cell_type": "code",
      "execution_count": 1,
      "metadata": {
        "colab": {
          "base_uri": "https://localhost:8080/"
        },
        "id": "2AuDQRQ_wmTI",
        "outputId": "b65d58f4-7855-45b1-f895-1fa2219b3b07"
      },
      "outputs": [
        {
          "output_type": "stream",
          "name": "stdout",
          "text": [
            "Enter the number of vertices: 4\n",
            "Enter source vertex: 0\n",
            "Enter Destination Vertex: 1\n",
            "Enter the path weight of the edge:(0,1): 10\n",
            "Continue?(Y/N): Y\n",
            "Enter source vertex: 0\n",
            "Enter Destination Vertex: 2\n",
            "Enter the path weight of the edge:(0,2): 6\n",
            "Continue?(Y/N): Y\n",
            "Enter source vertex: 0\n",
            "Enter Destination Vertex: 3\n",
            "Enter the path weight of the edge:(0,3): 5\n",
            "Continue?(Y/N): Y\n",
            "Enter source vertex: 1\n",
            "Enter Destination Vertex: 3\n",
            "Enter the path weight of the edge:(1,3): 15\n",
            "Continue?(Y/N): Y\n",
            "Enter source vertex: 2\n",
            "Enter Destination Vertex: 3\n",
            "Enter the path weight of the edge:(2,3): 4\n",
            "Continue?(Y/N): N\n",
            "\n",
            "Edges in MST:\n",
            "2 --> 3 = 4\n",
            "0 --> 3 = 5\n",
            "0 --> 1 = 10\n",
            "Cost of MST = 19\n"
          ]
        }
      ],
      "source": [
        "class Graph:\n",
        "    def __init__(self, vertex):\n",
        "        self.vertex = vertex\n",
        "        self.edges = []  # Initialize edges list\n",
        "        self.degree = []\n",
        "\n",
        "    def add_edge(self, vi, vj, wt):\n",
        "        self.edges.append([vi, vj, wt])\n",
        "\n",
        "    def search(self, parent, i):\n",
        "        if parent[i] == i:\n",
        "            return i\n",
        "        return self.search(parent, parent[i])\n",
        "\n",
        "    def doUnion(self, parents, rank, a, b):\n",
        "        root_a = self.search(parents, a)\n",
        "        root_b = self.search(parents, b)\n",
        "        if rank[root_a] < rank[root_b]:\n",
        "            parents[root_a] = root_b\n",
        "        elif rank[root_a] > rank[root_b]:\n",
        "            parents[root_b] = root_a\n",
        "        else:\n",
        "            parents[root_b] = root_a\n",
        "            rank[root_a] += 1\n",
        "\n",
        "    def kruskals(self):\n",
        "        mst = []\n",
        "        i, e = 0, 0\n",
        "        self.edges = sorted(self.edges, key=lambda element: element[2])\n",
        "        parents = []\n",
        "        rank = []\n",
        "        for node in range(self.vertex):\n",
        "            parents.append(node)\n",
        "            rank.append(0)\n",
        "        while e < self.vertex - 1 and i < len(self.edges):\n",
        "            vi, vj, wt = self.edges[i]\n",
        "            i += 1\n",
        "            a = self.search(parents, vi)\n",
        "            b = self.search(parents, vj)\n",
        "            if a != b:\n",
        "                e += 1\n",
        "                mst.append([vi, vj, wt])\n",
        "                self.doUnion(parents, rank, a, b)\n",
        "        minCost = 0\n",
        "        print(\"\\nEdges in MST:\")\n",
        "        for vi, vj, wt in mst:\n",
        "            print(\"{} --> {} = {}\".format(vi, vj, wt))\n",
        "            minCost += wt\n",
        "        print(\"Cost of MST =\", minCost)\n",
        "\n",
        "v = int(input(\"Enter the number of vertices: \"))\n",
        "gr = Graph(v)\n",
        "ch = \"Y\"\n",
        "while ch.upper() == \"Y\":\n",
        "    i = int(input(\"Enter source vertex: \"))\n",
        "    j = int(input(\"Enter Destination Vertex: \"))\n",
        "    wt = int(input(f\"Enter the path weight of the edge:({i},{j}): \"))\n",
        "    gr.add_edge(i, j, wt)\n",
        "    ch = input(\"Continue?(Y/N): \")\n",
        "\n",
        "gr.kruskals()\n"
      ]
    }
  ]
}