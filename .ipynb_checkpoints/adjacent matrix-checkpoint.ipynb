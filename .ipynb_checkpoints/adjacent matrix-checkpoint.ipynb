{
 "cells": [
  {
   "cell_type": "code",
   "execution_count": null,
   "id": "6ae0baff-f7ab-47cb-9d45-62c988a17ad4",
   "metadata": {},
   "outputs": [
    {
     "name": "stdin",
     "output_type": "stream",
     "text": [
      "Enter number of vertices:  3\n",
      "Enter number of edges:  4\n"
     ]
    },
    {
     "name": "stdout",
     "output_type": "stream",
     "text": [
      "Enter each edge as: u v\n"
     ]
    }
   ],
   "source": [
    "# Simple graph using adjacency matrix\n",
    "\n",
    "# Input number of vertices\n",
    "n = int(input(\"Enter number of vertices: \"))\n",
    "\n",
    "# Initialize the adjacency matrix with 0s\n",
    "adj_matrix = [[0 for _ in range(n)] for _ in range(n)]\n",
    "\n",
    "# Input number of edges\n",
    "e = int(input(\"Enter number of edges: \"))\n",
    "\n",
    "# Read edges\n",
    "print(\"Enter each edge as: u v\")\n",
    "for _ in range(e):\n",
    "    u, v = map(int, input().split())\n",
    "    adj_matrix[u][v] = 1\n",
    "    adj_matrix[v][u] = 1  # Remove this line for directed graph\n",
    "\n",
    "# Display the adjacency matrix\n",
    "print(\"\\nAdjacency Matrix:\")\n",
    "for row in adj_matrix:\n",
    "    print(row)\n"
   ]
  },
  {
   "cell_type": "code",
   "execution_count": null,
   "id": "6aaf09a2-6898-4a7d-831d-04e3cd0d1ccf",
   "metadata": {},
   "outputs": [],
   "source": []
  }
 ],
 "metadata": {
  "kernelspec": {
   "display_name": "Python 3 (ipykernel)",
   "language": "python",
   "name": "python3"
  },
  "language_info": {
   "codemirror_mode": {
    "name": "ipython",
    "version": 3
   },
   "file_extension": ".py",
   "mimetype": "text/x-python",
   "name": "python",
   "nbconvert_exporter": "python",
   "pygments_lexer": "ipython3",
   "version": "3.13.2"
  }
 },
 "nbformat": 4,
 "nbformat_minor": 5
}
