{
 "cells": [
  {
   "cell_type": "code",
   "execution_count": 3,
   "id": "f9630b69-9590-4861-b87d-6896b237f4d2",
   "metadata": {},
   "outputs": [
    {
     "name": "stdout",
     "output_type": "stream",
     "text": [
      "ABCD*-E/+\n"
     ]
    }
   ],
   "source": [
    "class Node:\n",
    "    def __init__(self, item=None, Next=None):\n",
    "        self.item = item\n",
    "        self.next = Next\n",
    "\n",
    "\n",
    "class Stack:\n",
    "    def __init__(self):\n",
    "        self.start = None\n",
    "        self.item_count = 0\n",
    "\n",
    "    def is_empty(self):\n",
    "        return self.start is None\n",
    "\n",
    "    def push(self, data):\n",
    "        n = Node(data, self.start)\n",
    "        self.start = n\n",
    "        self.item_count += 1\n",
    "\n",
    "    def pop(self):\n",
    "        if not self.is_empty():\n",
    "            data = self.start.item\n",
    "            self.start = self.start.next\n",
    "            self.item_count -= 1 \n",
    "            return data\n",
    "        else:\n",
    "            raise IndexError(\"Stack is Empty\")\n",
    "\n",
    "    def peek(self):\n",
    "        if not self.is_empty():\n",
    "            return self.start.item\n",
    "        else:\n",
    "            raise IndexError(\"Stack is Empty\")\n",
    "\n",
    "    def size(self):\n",
    "        return self.item_count\n",
    "\n",
    "\n",
    "def infix_to_postfix(src):\n",
    "    target = \"\"\n",
    "    st = Stack()\n",
    "\n",
    "    for i in src:\n",
    "        if i == \"(\":\n",
    "            st.push(i)\n",
    "            \n",
    "        elif i == \")\":\n",
    "            while not st.is_empty() and st.peek() != \"(\":\n",
    "                target += st.pop()\n",
    "            st.pop()\n",
    "\n",
    "        elif i.isdigit() or i.isalpha(): \n",
    "            target += i\n",
    "            \n",
    "        elif i in \"+-*/%\":  \n",
    "            while not st.is_empty() and st.peek() != \"(\" and getPriority(st.peek()) >= getPriority(i):\n",
    "                target += st.pop()\n",
    "            st.push(i)\n",
    "\n",
    "    while not st.is_empty():\n",
    "        target += st.pop()\n",
    "    \n",
    "    return target\n",
    "            \n",
    "            \n",
    "def getPriority(opr):\n",
    "    if opr in \"*/%\":\n",
    "        return 2  \n",
    "    elif opr in \"+-\":\n",
    "        return 1  \n",
    "    else:\n",
    "        return 0  \n",
    "\n",
    "\n",
    "print(infix_to_postfix(\"A+(B-C*D)/E\")) "
   ]
  },
  {
   "cell_type": "code",
   "execution_count": null,
   "id": "3215486e-9a52-4bf9-9224-bb89bc142f37",
   "metadata": {},
   "outputs": [],
   "source": []
  }
 ],
 "metadata": {
  "kernelspec": {
   "display_name": "Python 3 (ipykernel)",
   "language": "python",
   "name": "python3"
  },
  "language_info": {
   "codemirror_mode": {
    "name": "ipython",
    "version": 3
   },
   "file_extension": ".py",
   "mimetype": "text/x-python",
   "name": "python",
   "nbconvert_exporter": "python",
   "pygments_lexer": "ipython3",
   "version": "3.13.2"
  }
 },
 "nbformat": 4,
 "nbformat_minor": 5
}
