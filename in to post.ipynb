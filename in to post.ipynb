{
 "cells": [
  {
   "cell_type": "code",
   "execution_count": 20,
   "id": "5c72670d-c4bd-4e31-909b-e5cfbb21a906",
   "metadata": {},
   "outputs": [],
   "source": [
    "def infix_to_postfix(expression):\n",
    "    precedence = {'+': 1, '-': 1, '*': 2, '/': 2, '^': 3}\n",
    "    stack = []  # to keep operators\n",
    "    output = []  # resulting postfix expression\n",
    "\n",
    "    for char in expression:\n",
    "        if char.isalnum():  # Operand\n",
    "            output.append(char)\n",
    "        elif char == '(':\n",
    "            stack.append(char)\n",
    "        elif char == ')':\n",
    "            while stack and stack[-1] != '(':\n",
    "                output.append(stack.pop())\n",
    "            stack.pop()  # Remove '(' from stack\n",
    "        else:  # Operator\n",
    "            while (stack and stack[-1] != '(' and\n",
    "                   ((precedence[char] < precedence[stack[-1]]) or\n",
    "                    (precedence[char] == precedence[stack[-1]] and char != '^'))):\n",
    "                output.append(stack.pop())\n",
    "            stack.append(char)\n",
    "\n",
    "    while stack:\n",
    "        output.append(stack.pop())\n",
    "\n",
    "    return ''.join(output)\n"
   ]
  },
  {
   "cell_type": "code",
   "execution_count": 21,
   "id": "fd937c07-3ad8-467f-be86-14ea9b62e585",
   "metadata": {},
   "outputs": [
    {
     "name": "stdout",
     "output_type": "stream",
     "text": [
      "Postfix: ABC^*+\n"
     ]
    }
   ],
   "source": [
    "expr = \"A+B*C^\"\n",
    "print(\"Postfix:\", infix_to_postfix(expr))\n"
   ]
  },
  {
   "cell_type": "code",
   "execution_count": null,
   "id": "9382f243-3b2e-4b27-86d0-fef12a609c21",
   "metadata": {},
   "outputs": [],
   "source": []
  }
 ],
 "metadata": {
  "kernelspec": {
   "display_name": "Python 3 (ipykernel)",
   "language": "python",
   "name": "python3"
  },
  "language_info": {
   "codemirror_mode": {
    "name": "ipython",
    "version": 3
   },
   "file_extension": ".py",
   "mimetype": "text/x-python",
   "name": "python",
   "nbconvert_exporter": "python",
   "pygments_lexer": "ipython3",
   "version": "3.13.2"
  }
 },
 "nbformat": 4,
 "nbformat_minor": 5
}
