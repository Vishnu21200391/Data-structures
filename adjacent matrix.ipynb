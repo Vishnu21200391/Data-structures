{
 "cells": [
  {
   "cell_type": "code",
   "execution_count": 9,
   "id": "6aaf09a2-6898-4a7d-831d-04e3cd0d1ccf",
   "metadata": {},
   "outputs": [
    {
     "name": "stdin",
     "output_type": "stream",
     "text": [
      "Enter number of vertices:  3\n",
      "Enter number of edges:  2\n"
     ]
    },
    {
     "name": "stdout",
     "output_type": "stream",
     "text": [
      "Enter each edge as: u v\n"
     ]
    },
    {
     "name": "stdin",
     "output_type": "stream",
     "text": [
      " 0 1\n",
      " 1 2\n"
     ]
    },
    {
     "name": "stdout",
     "output_type": "stream",
     "text": [
      "\n",
      "Adjacency Matrix:\n",
      "[0, 1, 0]\n",
      "[1, 0, 1]\n",
      "[0, 1, 0]\n"
     ]
    }
   ],
   "source": [
    "n = int(input(\"Enter number of vertices: \"))\n",
    "adj_matrix = [[0 for _ in range(n)] for _ in range(n)]\n",
    "e = int(input(\"Enter number of edges: \"))\n",
    "print(\"Enter each edge as: u v\")\n",
    "for _ in range(e):\n",
    "    u, v = map(int, input().split())\n",
    "    adj_matrix[u][v] = 1\n",
    "    adj_matrix[v][u] = 1\n",
    "print(\"\\nAdjacency Matrix:\")\n",
    "for row in adj_matrix:\n",
    "    \n",
    "    print(row)"
   ]
  },
  {
   "cell_type": "code",
   "execution_count": null,
   "id": "e1d24371-5146-4229-b6bc-81211a6456d9",
   "metadata": {},
   "outputs": [],
   "source": []
  }
 ],
 "metadata": {
  "kernelspec": {
   "display_name": "Python 3 (ipykernel)",
   "language": "python",
   "name": "python3"
  },
  "language_info": {
   "codemirror_mode": {
    "name": "ipython",
    "version": 3
   },
   "file_extension": ".py",
   "mimetype": "text/x-python",
   "name": "python",
   "nbconvert_exporter": "python",
   "pygments_lexer": "ipython3",
   "version": "3.13.2"
  }
 },
 "nbformat": 4,
 "nbformat_minor": 5
}
