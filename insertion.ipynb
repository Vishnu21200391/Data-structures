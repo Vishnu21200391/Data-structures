{
 "cells": [
  {
   "cell_type": "markdown",
   "id": "a19f4227-b29c-4a04-b335-6933bc17bbd4",
   "metadata": {},
   "source": [
    "Insertion:\n",
    "\n",
    "Each element is insert into proper position in a previous sorted array or list\n",
    "\n",
    "Algorithm: Insertion-Sort(list):\n",
    "- size=len(list)\n",
    "- for i=1 to size-1, do\n",
    "- temp=list[i]\n",
    "- j=i-1\n",
    "- while temp<list[j]and j>=0,do\n",
    "- list[j+1]=list[j]\n",
    "- j=j-1\n",
    "- list[j+1]=temp\n",
    "- exit\n",
    "- worest case: O(n^2)\n",
    "- best case: O(n)"
   ]
  },
  {
   "cell_type": "markdown",
   "id": "b4de8ef0-5c53-44b5-8a43-1828f8861ca7",
   "metadata": {},
   "source": [
    "def insertion_sort(list):\n",
    "    size = len(list)\n",
    "    for i in range(1, size): \n",
    "        temp = list[i]\n",
    "        j = i - 1\n",
    "        while j >= 0 and temp < list[j]:\n",
    "            list[j + 1] = list[j]\n",
    "            j -= 1\n",
    "        list[j + 1] = temp\n",
    "\n",
    "n = int(input(\"Enter the number of elements: \"))\n",
    "l = []\n",
    "for i in range(n):\n",
    "    num = int(input(\"Enter the elements: \"))\n",
    "    l.append(num)\n",
    "\n",
    "insertion_sort(l)\n",
    "print(\"The sorted elements are:\")\n",
    "for i in range(n):\n",
    "    print(l[i], end=\" \")"
   ]
  },
  {
   "cell_type": "markdown",
   "id": "750e3f61-f6b0-46c2-ade1-584324e4f421",
   "metadata": {},
   "source": [
    "Initial List\n",
    "[7, 3, 9, 1, 5]\n",
    "\n",
    "Step-by-Step Execution\n",
    "Iteration 1 (i = 1, temp = 3)\n",
    "\n",
    "Compare 3 with 7. Since 3 < 7, shift 7 to the right.\n",
    "Insert 3 at index 0.\n",
    "List after Iteration 1: [3, 7, 9, 1, 5]\n",
    "Iteration 2 (i = 2, temp = 9)\n",
    "\n",
    "Compare 9 with 7. Since 9 > 7, no shifting is needed.\n",
    "List remains: [3, 7, 9, 1, 5]\n",
    "Iteration 3 (i = 3, temp = 1)\n",
    "\n",
    "Compare 1 with 9 → Shift 9 right.\n",
    "Compare 1 with 7 → Shift 7 right.\n",
    "Compare 1 with 3 → Shift 3 right.\n",
    "Insert 1 at index 0.\n",
    "List after Iteration 3: [1, 3, 7, 9, 5]\n",
    "Iteration 4 (i = 4, temp = 5)\n",
    "\n",
    "Compare 5 with 9 → Shift 9 right.\n",
    "Compare 5 with 7 → Shift 7 right.\n",
    "Compare 5 with 3 → No shifting needed.\n",
    "Insert 5 at index 2.\n",
    "List after Iteration 4: [1, 3, 5, 7, 9]\n"
   ]
  },
  {
   "cell_type": "code",
   "execution_count": null,
   "id": "acd6cf3f-10eb-4a35-834a-b075886560b9",
   "metadata": {},
   "outputs": [],
   "source": []
  }
 ],
 "metadata": {
  "kernelspec": {
   "display_name": "Python 3 (ipykernel)",
   "language": "python",
   "name": "python3"
  },
  "language_info": {
   "codemirror_mode": {
    "name": "ipython",
    "version": 3
   },
   "file_extension": ".py",
   "mimetype": "text/x-python",
   "name": "python",
   "nbconvert_exporter": "python",
   "pygments_lexer": "ipython3",
   "version": "3.13.2"
  }
 },
 "nbformat": 4,
 "nbformat_minor": 5
}
