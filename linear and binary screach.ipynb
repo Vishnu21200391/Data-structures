{
 "cells": [
  {
   "cell_type": "code",
   "execution_count": 1,
   "id": "6ecd3d00-ff7b-44b4-9f69-d56f6b9d313a",
   "metadata": {},
   "outputs": [
    {
     "name": "stdout",
     "output_type": "stream",
     "text": [
      "Unique element (Linear Search): 4\n"
     ]
    }
   ],
   "source": [
    "def find_unique_linear(arr):\n",
    "    \n",
    "    for i in range(0, len(arr) - 1, 2):\n",
    "        if arr[i] != arr[i + 1]:\n",
    "            return arr[i]\n",
    "    return arr[-1] \n",
    "\n",
    "arr = [1, 1, 2, 2, 3, 3, 4, 5, 5]\n",
    "print(\"Unique element (Linear Search):\", find_unique_linear(arr))"
   ]
  },
  {
   "cell_type": "code",
   "execution_count": 5,
   "id": "36fddc58-d05b-41c9-9024-4724bcbc87ce",
   "metadata": {},
   "outputs": [
    {
     "name": "stdout",
     "output_type": "stream",
     "text": [
      "Unique element (Binary Search): 4\n"
     ]
    }
   ],
   "source": [
    "def find_unique_binary(arr):\n",
    "    low, high = 0, len(arr) - 1\n",
    "    \n",
    "    while low < high:\n",
    "        mid = low + (high - low) // 2\n",
    "        \n",
    "        \n",
    "        if mid % 2 == 1:\n",
    "            mid -= 1  \n",
    "        \n",
    "        \n",
    "        if mid + 1 < len(arr) and arr[mid] == arr[mid + 1]:\n",
    "            low = mid + 2  \n",
    "        else:\n",
    "            high = mid \n",
    "\n",
    "    return arr[low]\n",
    "\n",
    "arr = [1, 1, 2, 2, 3, 3, 4, 5, 5]\n",
    "print(\"Unique element (Binary Search):\", find_unique_binary(arr))\n"
   ]
  },
  {
   "cell_type": "code",
   "execution_count": null,
   "id": "c6068aec-b57e-40fa-a9d0-9264831c682a",
   "metadata": {},
   "outputs": [],
   "source": []
  }
 ],
 "metadata": {
  "kernelspec": {
   "display_name": "Python 3 (ipykernel)",
   "language": "python",
   "name": "python3"
  },
  "language_info": {
   "codemirror_mode": {
    "name": "ipython",
    "version": 3
   },
   "file_extension": ".py",
   "mimetype": "text/x-python",
   "name": "python",
   "nbconvert_exporter": "python",
   "pygments_lexer": "ipython3",
   "version": "3.13.2"
  }
 },
 "nbformat": 4,
 "nbformat_minor": 5
}
