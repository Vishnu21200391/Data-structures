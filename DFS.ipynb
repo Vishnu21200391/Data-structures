{
 "cells": [
  {
   "cell_type": "code",
   "execution_count": 3,
   "id": "673b2c7e-6dc2-4734-a53b-024aec2bf994",
   "metadata": {},
   "outputs": [],
   "source": [
    "def dfs(graph, node, visited=None):\n",
    "    if visited is None:\n",
    "        visited = set()\n",
    "\n",
    "    if node not in visited:\n",
    "        print(node, end=\"->\")\n",
    "        visited.add(node)\n",
    "\n",
    "        for neighbor in graph[node]:\n",
    "            dfs(graph, neighbor, visited)\n"
   ]
  },
  {
   "cell_type": "code",
   "execution_count": 5,
   "id": "f0aa8d1f-fbd9-445f-9743-574b4eb880b3",
   "metadata": {},
   "outputs": [],
   "source": [
    "graph = {\n",
    "    1: [2, 3],\n",
    "    2: [4, 5],\n",
    "    3: [6],\n",
    "    4: [],\n",
    "    5: [],\n",
    "    6: []\n",
    "}\n"
   ]
  },
  {
   "cell_type": "code",
   "execution_count": 6,
   "id": "69ad0964-1719-4cbe-8437-e112664228f0",
   "metadata": {},
   "outputs": [
    {
     "name": "stdout",
     "output_type": "stream",
     "text": [
      "1->2->4->5->3->6->"
     ]
    }
   ],
   "source": [
    "dfs(graph, 1)"
   ]
  },
  {
   "cell_type": "code",
   "execution_count": 10,
   "id": "095a5e80-7dbf-41fe-a70b-3e34f1a56ff7",
   "metadata": {},
   "outputs": [],
   "source": [
    "def dfs_iterative(graph, start):\n",
    "    visited = set()\n",
    "    stack = [start]\n",
    "\n",
    "    while stack:\n",
    "        node = stack.pop()\n",
    "        if node not in visited:\n",
    "            print(node, end=\" -> \")\n",
    "            visited.add(node)\n",
    "            for neighbor in reversed(graph[node]):\n",
    "                if neighbor not in visited:\n",
    "                    stack.append(neighbor)\n"
   ]
  },
  {
   "cell_type": "code",
   "execution_count": 12,
   "id": "a606ad59-695a-4672-bc2e-11bac8bfd9c4",
   "metadata": {},
   "outputs": [
    {
     "name": "stdout",
     "output_type": "stream",
     "text": [
      "1 -> 2 -> 4 -> 5 -> 3 -> 6 -> None\n"
     ]
    }
   ],
   "source": [
    "graph = {\n",
    "    1: [2, 3],\n",
    "    2: [4, 5],\n",
    "    3: [6],\n",
    "    4: [],\n",
    "    5: [],\n",
    "    6: []\n",
    "}\n",
    "print(dfs_iterative(graph, 1))"
   ]
  },
  {
   "cell_type": "code",
   "execution_count": null,
   "id": "028d16c7-4a71-48be-acdf-71b67804b09c",
   "metadata": {},
   "outputs": [],
   "source": []
  }
 ],
 "metadata": {
  "kernelspec": {
   "display_name": "Python 3 (ipykernel)",
   "language": "python",
   "name": "python3"
  },
  "language_info": {
   "codemirror_mode": {
    "name": "ipython",
    "version": 3
   },
   "file_extension": ".py",
   "mimetype": "text/x-python",
   "name": "python",
   "nbconvert_exporter": "python",
   "pygments_lexer": "ipython3",
   "version": "3.13.2"
  }
 },
 "nbformat": 4,
 "nbformat_minor": 5
}
