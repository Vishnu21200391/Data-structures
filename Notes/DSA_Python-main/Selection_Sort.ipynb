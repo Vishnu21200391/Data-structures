{
 "cells": [
  {
   "cell_type": "code",
   "execution_count": 8,
   "id": "8802402e-d66e-42f9-8e9b-6b86acdb2e82",
   "metadata": {},
   "outputs": [
    {
     "name": "stdout",
     "output_type": "stream",
     "text": [
      "Before sorting: [6, 5, 2, 8, 9, 4]\n",
      "\n",
      "\n",
      "After sorting: [2, 5, 6, 8, 9, 4]\n",
      "After sorting: [2, 4, 6, 8, 9, 5]\n",
      "After sorting: [2, 4, 5, 8, 9, 6]\n",
      "After sorting: [2, 4, 5, 6, 9, 8]\n",
      "After sorting: [2, 4, 5, 6, 8, 9]\n"
     ]
    }
   ],
   "source": [
    "num = [6, 5, 2, 8, 9, 4] \n",
    "size = len(num)  \n",
    "minIndex = -1\n",
    "\n",
    "\n",
    "print(\"Before sorting:\", num)\n",
    "print(\"\\n\")\n",
    "\n",
    "for i in range(0, size-1):\n",
    "    minIndex = i\n",
    "    \n",
    "    for j in range(i, size):\n",
    "        if num[minIndex] > num[j]:\n",
    "            minIndex = j\n",
    "            \n",
    "    num[minIndex], num[i] = num[i], num[minIndex]\n",
    "    print(\"After sorting:\", num)"
   ]
  },
  {
   "cell_type": "code",
   "execution_count": 2,
   "id": "a92ce43c-896c-457d-9f82-a2a36b01d236",
   "metadata": {},
   "outputs": [
    {
     "name": "stdout",
     "output_type": "stream",
     "text": [
      "Before sorting: [6, 5, 2, 8, 9, 4]\n",
      "\n",
      "\n",
      "0\n",
      "After sorting: [2, 5, 6, 8, 9, 4]\n",
      "1\n",
      "After sorting: [2, 4, 6, 8, 9, 5]\n",
      "2\n",
      "After sorting: [2, 4, 5, 8, 9, 6]\n",
      "3\n",
      "After sorting: [2, 4, 5, 6, 9, 8]\n",
      "4\n",
      "After sorting: [2, 4, 5, 6, 8, 9]\n"
     ]
    }
   ],
   "source": [
    "def selection_sort(num):\n",
    "    size = len(num)\n",
    "    \n",
    "    print(\"Before sorting:\", num)\n",
    "    print(\"\\n\")\n",
    "\n",
    "    for i in range(size - 1):\n",
    "        minIndex = i\n",
    "        \n",
    "        for j in range(i, size):\n",
    "            if num[minIndex] > num[j]:\n",
    "                minIndex = j\n",
    "\n",
    "        num[minIndex], num[i] = num[i], num[minIndex]\n",
    "        print(\"After sorting:\", num)\n",
    "\n",
    "    return num\n",
    "\n",
    "numbers = [6, 5, 2, 8, 9, 4]\n",
    "sorted_numbers = selection_sort(numbers)"
   ]
  },
  {
   "cell_type": "code",
   "execution_count": 3,
   "id": "4647b095-68ed-47f2-83ae-8d4e364ee462",
   "metadata": {},
   "outputs": [
    {
     "name": "stdout",
     "output_type": "stream",
     "text": [
      "Initial list: [53, 29, 78, 46, 12, 121, 34, 68]\n",
      "After pass 1: [12, 29, 78, 46, 53, 121, 34, 68]\n",
      "After pass 2: [12, 29, 78, 46, 53, 121, 34, 68]\n",
      "After pass 3: [12, 29, 34, 46, 53, 121, 78, 68]\n",
      "After pass 4: [12, 29, 34, 46, 53, 121, 78, 68]\n",
      "After pass 5: [12, 29, 34, 46, 53, 121, 78, 68]\n",
      "After pass 6: [12, 29, 34, 46, 53, 68, 78, 121]\n",
      "After pass 7: [12, 29, 34, 46, 53, 68, 78, 121]\n",
      "Final sorted list (Selection Sort): [12, 29, 34, 46, 53, 68, 78, 121]\n"
     ]
    }
   ],
   "source": [
    "def selection_sort(arr):\n",
    "    size = len(arr)\n",
    "    print(\"Initial list:\", arr)\n",
    "\n",
    "    for i in range(size - 1):\n",
    "        min_index = i\n",
    "        for j in range(i + 1, size):\n",
    "            if arr[j] < arr[min_index]:\n",
    "                min_index = j\n",
    "\n",
    "        arr[i], arr[min_index] = arr[min_index], arr[i]\n",
    "        print(f\"After pass {i + 1}: {arr}\")\n",
    "\n",
    "    print(\"Final sorted list (Selection Sort):\", arr)\n",
    "\n",
    "# Test list\n",
    "arr1 = [53, 29, 78, 46, 12, 121, 34, 68]\n",
    "selection_sort(arr1)\n"
   ]
  },
  {
   "cell_type": "code",
   "execution_count": 4,
   "id": "69be64ec-f95a-4af3-bc5b-cdaacc77153a",
   "metadata": {},
   "outputs": [
    {
     "name": "stdout",
     "output_type": "stream",
     "text": [
      "Initial list: [53, 29, 78, 46, 12, 121, 34, 68]\n",
      "After pass 1: [29, 53, 46, 12, 78, 34, 68, 121]\n",
      "After pass 2: [29, 46, 12, 53, 34, 68, 78, 121]\n",
      "After pass 3: [29, 12, 46, 34, 53, 68, 78, 121]\n",
      "After pass 4: [12, 29, 34, 46, 53, 68, 78, 121]\n",
      "After pass 5: [12, 29, 34, 46, 53, 68, 78, 121]\n",
      "Final sorted list (Bubble Sort): [12, 29, 34, 46, 53, 68, 78, 121]\n"
     ]
    }
   ],
   "source": [
    "def bubble_sort(arr):\n",
    "    size = len(arr)\n",
    "    print(\"Initial list:\", arr)\n",
    "\n",
    "    for i in range(size - 1):\n",
    "        swapped = False\n",
    "        for j in range(0, size - i - 1):\n",
    "            if arr[j] > arr[j + 1]:\n",
    "                arr[j], arr[j + 1] = arr[j + 1], arr[j]\n",
    "                swapped = True\n",
    "\n",
    "        print(f\"After pass {i + 1}: {arr}\")\n",
    "\n",
    "        if not swapped:\n",
    "            break  # Stop early if no swaps\n",
    "\n",
    "    print(\"Final sorted list (Bubble Sort):\", arr)\n",
    "\n",
    "# Test list\n",
    "arr2 = [53, 29, 78, 46, 12, 121, 34, 68]\n",
    "bubble_sort(arr2)\n"
   ]
  },
  {
   "cell_type": "code",
   "execution_count": 5,
   "id": "f0592a45-9e69-460b-b119-b76d70066072",
   "metadata": {},
   "outputs": [
    {
     "name": "stdout",
     "output_type": "stream",
     "text": [
      "Initial list: [53, 29, 78, 46, 12, 121, 34, 68]\n",
      "After pass 1: [29, 53, 78, 46, 12, 121, 34, 68]\n",
      "After pass 2: [29, 53, 78, 46, 12, 121, 34, 68]\n",
      "After pass 3: [29, 46, 53, 78, 12, 121, 34, 68]\n",
      "After pass 4: [12, 29, 46, 53, 78, 121, 34, 68]\n",
      "After pass 5: [12, 29, 46, 53, 78, 121, 34, 68]\n",
      "After pass 6: [12, 29, 34, 46, 53, 78, 121, 68]\n",
      "After pass 7: [12, 29, 34, 46, 53, 68, 78, 121]\n",
      "Final sorted list (Insertion Sort): [12, 29, 34, 46, 53, 68, 78, 121]\n"
     ]
    }
   ],
   "source": [
    "def insertion_sort(arr):\n",
    "    print(\"Initial list:\", arr)\n",
    "    for i in range(1, len(arr)):\n",
    "        key = arr[i]\n",
    "        j = i - 1\n",
    "\n",
    "        while j >= 0 and arr[j] > key:\n",
    "            arr[j + 1] = arr[j]\n",
    "            j -= 1\n",
    "\n",
    "        arr[j + 1] = key\n",
    "        print(f\"After pass {i}: {arr}\")\n",
    "    print(\"Final sorted list (Insertion Sort):\", arr)\n",
    "\n",
    "# Test\n",
    "arr = [53, 29, 78, 46, 12, 121, 34, 68]\n",
    "insertion_sort(arr.copy())\n"
   ]
  },
  {
   "cell_type": "code",
   "execution_count": 6,
   "id": "553ccdec-bf48-4077-9a02-1b6733b711a9",
   "metadata": {},
   "outputs": [
    {
     "name": "stdout",
     "output_type": "stream",
     "text": [
      "Initial list: [53, 29, 78, 46, 12, 121, 34, 68]\n",
      "    After merge at depth 2: [29, 53]\n",
      "    After merge at depth 2: [46, 78]\n",
      "  After merge at depth 1: [29, 46, 53, 78]\n",
      "    After merge at depth 2: [12, 121]\n",
      "    After merge at depth 2: [34, 68]\n",
      "  After merge at depth 1: [12, 34, 68, 121]\n",
      "After merge at depth 0: [12, 29, 34, 46, 53, 68, 78, 121]\n",
      "Final sorted list (Merge Sort): [12, 29, 34, 46, 53, 68, 78, 121]\n"
     ]
    }
   ],
   "source": [
    "def merge_sort(arr, depth=0):\n",
    "    indent = \"  \" * depth  # for visual clarity\n",
    "    if len(arr) > 1:\n",
    "        mid = len(arr) // 2\n",
    "        L = arr[:mid]\n",
    "        R = arr[mid:]\n",
    "\n",
    "        merge_sort(L, depth + 1)\n",
    "        merge_sort(R, depth + 1)\n",
    "\n",
    "        i = j = k = 0\n",
    "\n",
    "        # Merging two halves\n",
    "        while i < len(L) and j < len(R):\n",
    "            if L[i] < R[j]:\n",
    "                arr[k] = L[i]\n",
    "                i += 1\n",
    "            else:\n",
    "                arr[k] = R[j]\n",
    "                j += 1\n",
    "            k += 1\n",
    "\n",
    "        while i < len(L):\n",
    "            arr[k] = L[i]\n",
    "            i += 1\n",
    "            k += 1\n",
    "\n",
    "        while j < len(R):\n",
    "            arr[k] = R[j]\n",
    "            j += 1\n",
    "            k += 1\n",
    "\n",
    "        print(f\"{indent}After merge at depth {depth}: {arr}\")\n",
    "\n",
    "# Test\n",
    "arr = [53, 29, 78, 46, 12, 121, 34, 68]\n",
    "print(\"Initial list:\", arr)\n",
    "merge_sort(arr)\n",
    "print(\"Final sorted list (Merge Sort):\", arr)\n"
   ]
  },
  {
   "cell_type": "code",
   "execution_count": 7,
   "id": "6731661d-2b1f-4db1-bca6-839e5025d4a5",
   "metadata": {},
   "outputs": [
    {
     "name": "stdout",
     "output_type": "stream",
     "text": [
      "Initial list: [53, 29, 78, 46, 12, 121, 34, 68]\n",
      "After partition with pivot 68: [53, 29, 46, 12, 34, 68, 78, 121]\n",
      "  After partition with pivot 34: [29, 12, 34, 53, 46, 68, 78, 121]\n",
      "    After partition with pivot 12: [12, 29, 34, 53, 46, 68, 78, 121]\n",
      "    After partition with pivot 46: [12, 29, 34, 46, 53, 68, 78, 121]\n",
      "  After partition with pivot 121: [12, 29, 34, 46, 53, 68, 78, 121]\n",
      "Final sorted list (Quick Sort): [12, 29, 34, 46, 53, 68, 78, 121]\n"
     ]
    }
   ],
   "source": [
    "def quick_sort(arr, low, high, depth=0):\n",
    "    indent = \"  \" * depth\n",
    "\n",
    "    def partition(low, high):\n",
    "        pivot = arr[high]\n",
    "        i = low - 1\n",
    "\n",
    "        for j in range(low, high):\n",
    "            if arr[j] <= pivot:\n",
    "                i += 1\n",
    "                arr[i], arr[j] = arr[j], arr[i]\n",
    "\n",
    "        arr[i + 1], arr[high] = arr[high], arr[i + 1]\n",
    "        return i + 1\n",
    "\n",
    "    if low < high:\n",
    "        pi = partition(low, high)\n",
    "        print(f\"{indent}After partition with pivot {arr[pi]}: {arr}\")\n",
    "        quick_sort(arr, low, pi - 1, depth + 1)\n",
    "        quick_sort(arr, pi + 1, high, depth + 1)\n",
    "\n",
    "# Test\n",
    "arr = [53, 29, 78, 46, 12, 121, 34, 68]\n",
    "print(\"Initial list:\", arr)\n",
    "quick_sort(arr, 0, len(arr) - 1)\n",
    "print(\"Final sorted list (Quick Sort):\", arr)\n"
   ]
  },
  {
   "cell_type": "code",
   "execution_count": 8,
   "id": "2166211b-8080-47b6-9d5d-099cf25c2eb7",
   "metadata": {},
   "outputs": [
    {
     "name": "stdout",
     "output_type": "stream",
     "text": [
      "Initial list: [53, 29, 78, 46, 12, 121, 34, 68]\n",
      "After building max heap: [121, 68, 78, 46, 12, 53, 34, 29]\n",
      "After extracting 1 element(s): [78, 68, 53, 46, 12, 29, 34, 121]\n",
      "After extracting 2 element(s): [68, 46, 53, 34, 12, 29, 78, 121]\n",
      "After extracting 3 element(s): [53, 46, 29, 34, 12, 68, 78, 121]\n",
      "After extracting 4 element(s): [46, 34, 29, 12, 53, 68, 78, 121]\n",
      "After extracting 5 element(s): [34, 12, 29, 46, 53, 68, 78, 121]\n",
      "After extracting 6 element(s): [29, 12, 34, 46, 53, 68, 78, 121]\n",
      "After extracting 7 element(s): [12, 29, 34, 46, 53, 68, 78, 121]\n",
      "Final sorted list (Heap Sort): [12, 29, 34, 46, 53, 68, 78, 121]\n"
     ]
    }
   ],
   "source": [
    "def heapify(arr, n, i, depth=0):\n",
    "    indent = \"  \" * depth\n",
    "    largest = i\n",
    "    left = 2 * i + 1\n",
    "    right = 2 * i + 2\n",
    "\n",
    "    if left < n and arr[left] > arr[largest]:\n",
    "        largest = left\n",
    "\n",
    "    if right < n and arr[right] > arr[largest]:\n",
    "        largest = right\n",
    "\n",
    "    if largest != i:\n",
    "        arr[i], arr[largest] = arr[largest], arr[i]\n",
    "        heapify(arr, n, largest, depth + 1)\n",
    "\n",
    "def heap_sort(arr):\n",
    "    n = len(arr)\n",
    "    print(\"Initial list:\", arr)\n",
    "\n",
    "    # Build max heap\n",
    "    for i in range(n // 2 - 1, -1, -1):\n",
    "        heapify(arr, n, i)\n",
    "    print(\"After building max heap:\", arr)\n",
    "\n",
    "    # Extract elements\n",
    "    for i in range(n - 1, 0, -1):\n",
    "        arr[0], arr[i] = arr[i], arr[0]  # swap\n",
    "        heapify(arr, i, 0)\n",
    "        print(f\"After extracting {n - i} element(s): {arr}\")\n",
    "\n",
    "    print(\"Final sorted list (Heap Sort):\", arr)\n",
    "\n",
    "# Test\n",
    "arr = [53, 29, 78, 46, 12, 121, 34, 68]\n",
    "heap_sort(arr.copy())\n"
   ]
  }
 ],
 "metadata": {
  "kernelspec": {
   "display_name": "Python 3 (ipykernel)",
   "language": "python",
   "name": "python3"
  },
  "language_info": {
   "codemirror_mode": {
    "name": "ipython",
    "version": 3
   },
   "file_extension": ".py",
   "mimetype": "text/x-python",
   "name": "python",
   "nbconvert_exporter": "python",
   "pygments_lexer": "ipython3",
   "version": "3.13.2"
  }
 },
 "nbformat": 4,
 "nbformat_minor": 5
}
