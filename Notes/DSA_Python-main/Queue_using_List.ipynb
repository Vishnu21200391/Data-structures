{
 "cells": [
  {
   "cell_type": "code",
   "execution_count": 8,
   "id": "d3cac457-ade6-4060-98c6-f4e2cd8a29a6",
   "metadata": {},
   "outputs": [
    {
     "name": "stdout",
     "output_type": "stream",
     "text": [
      "3\n",
      "10\n",
      "10\n",
      "2\n",
      "20\n",
      "30\n"
     ]
    }
   ],
   "source": [
    "class Queue:\n",
    "    def __init__(self):\n",
    "        self.item = []\n",
    "\n",
    "    def is_empty(self):\n",
    "        return len(self.item) == 0\n",
    "\n",
    "    def enqueue(self, data):\n",
    "        self.item.append(data)\n",
    "\n",
    "    def dequeue(self):\n",
    "        if not self.is_empty():\n",
    "            return self.item.pop(0)\n",
    "\n",
    "    def getfront(self):\n",
    "        if not self.is_empty():\n",
    "            return self.item[0]\n",
    "\n",
    "    def getrear(self):\n",
    "        if not self.is_empty():\n",
    "            return self.item[-1]\n",
    "\n",
    "    def size(self):\n",
    "        return len(self.item)\n",
    "\n",
    "\n",
    "q = Queue()\n",
    "\n",
    "q.enqueue(10)\n",
    "q.enqueue(20)\n",
    "q.enqueue(30)\n",
    "\n",
    "print(q.size())\n",
    "print(q.getfront())\n",
    "print(q.dequeue())\n",
    "print(q.size())\n",
    "print(q.getfront())\n",
    "print(q.getrear())"
   ]
  },
  {
   "cell_type": "code",
   "execution_count": null,
   "id": "fa952215-450e-49b6-8c43-b70d401d8b8d",
   "metadata": {},
   "outputs": [],
   "source": []
  }
 ],
 "metadata": {
  "kernelspec": {
   "display_name": "Python 3 (ipykernel)",
   "language": "python",
   "name": "python3"
  },
  "language_info": {
   "codemirror_mode": {
    "name": "ipython",
    "version": 3
   },
   "file_extension": ".py",
   "mimetype": "text/x-python",
   "name": "python",
   "nbconvert_exporter": "python",
   "pygments_lexer": "ipython3",
   "version": "3.13.2"
  }
 },
 "nbformat": 4,
 "nbformat_minor": 5
}
