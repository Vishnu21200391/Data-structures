{
 "cells": [
  {
   "cell_type": "code",
   "execution_count": 1,
   "id": "2132c710-80dd-4004-8d1f-0792d7a273a4",
   "metadata": {},
   "outputs": [
    {
     "name": "stdout",
     "output_type": "stream",
     "text": [
      "\n",
      "1. Push\n",
      "2. Pop\n",
      "3. Peek\n",
      "4. Display\n",
      "5. Exit\n"
     ]
    },
    {
     "name": "stdout",
     "output_type": "stream",
     "text": [
      "Enter your choice:  5\n"
     ]
    },
    {
     "name": "stdout",
     "output_type": "stream",
     "text": [
      "Exiting...\n"
     ]
    }
   ],
   "source": [
    "class Node:\n",
    "    def __init__(self, data, next=None):\n",
    "        self.data = data\n",
    "        self.next = next\n",
    "\n",
    "\n",
    "class Stack_LL:\n",
    "    def __init__(self):\n",
    "        self.top = None\n",
    "\n",
    "    def is_empty(self):\n",
    "        return self.top is None\n",
    "\n",
    "    def peek(self):\n",
    "        if not self.is_empty():\n",
    "            return self.top.data\n",
    "        else:\n",
    "            print(\"Stack is empty.\")\n",
    "            return None\n",
    "\n",
    "    def pop(self):\n",
    "        if not self.is_empty():\n",
    "            node = self.top\n",
    "            self.top = self.top.next\n",
    "            return node.data\n",
    "        else:\n",
    "            print(\"Stack is empty. Cannot pop.\")\n",
    "            return None\n",
    "\n",
    "    def push(self, data):\n",
    "        n = Node(data, self.top)\n",
    "        self.top = n\n",
    "        return self.top.data\n",
    "\n",
    "    def display(self):\n",
    "        if self.is_empty():\n",
    "            print(\"Stack is empty.\")\n",
    "        else:\n",
    "            temp = self.top\n",
    "            while temp is not None:\n",
    "                print(temp.data)\n",
    "                temp = temp.next\n",
    "\n",
    "\n",
    "s = Stack_LL()\n",
    "\n",
    "while True:\n",
    "    print(\"\\n1. Push\")\n",
    "    print(\"2. Pop\")\n",
    "    print(\"3. Peek\")\n",
    "    print(\"4. Display\")\n",
    "    print(\"5. Exit\")\n",
    "    \n",
    "    choice = int(input(\"Enter your choice: \"))\n",
    "    \n",
    "    if choice == 1:\n",
    "        data = input(\"Enter data to push: \")\n",
    "        s.push(data)\n",
    "        print(f\"Pushed: {data}\")\n",
    "        \n",
    "    elif choice == 2:\n",
    "        popped = s.pop()\n",
    "        if popped is not None:\n",
    "            print(f\"Popped: {popped}\")\n",
    "        \n",
    "    elif choice == 3:\n",
    "        top = s.peek()\n",
    "        if top is not None:\n",
    "            print(f\"Top element: {top}\")\n",
    "    \n",
    "    elif choice == 4:\n",
    "        s.display()\n",
    "        \n",
    "    elif choice == 5:\n",
    "        print(\"Exiting...\")\n",
    "        break\n",
    "    \n",
    "    else:\n",
    "        print(\"Invalid choice. Try again.\")"
   ]
  },
  {
   "cell_type": "code",
   "execution_count": 2,
   "id": "590fdefa-955b-477c-aa5b-9e157daff35b",
   "metadata": {},
   "outputs": [
    {
     "name": "stdout",
     "output_type": "stream",
     "text": [
      "Size 4\n",
      "Top Element 40\n",
      "Popped 40\n",
      "Size 3\n",
      "Top Element 30\n"
     ]
    }
   ],
   "source": [
    "class Node:\n",
    "    def __init__(self, item=None, Next=None):\n",
    "        self.item = item\n",
    "        self.next = Next\n",
    "\n",
    "\n",
    "class Stack1:\n",
    "    def __init__(self):\n",
    "        self.start = None\n",
    "        self.item_count = 0\n",
    "\n",
    "    def is_empty(self):\n",
    "        return self.start == None\n",
    "\n",
    "    def push(self, data):\n",
    "        n = Node(data, self.start)\n",
    "        self.start = n\n",
    "        self.item_count += 1\n",
    "\n",
    "    def pop(self):\n",
    "        if not self.is_empty():\n",
    "            data = self.start.item\n",
    "            self.start = self.start.next\n",
    "            self.item_count -= 1 \n",
    "            return data\n",
    "        else:\n",
    "            raise IndexError(\"Stack is Empty\")\n",
    "\n",
    "    def peek(self):\n",
    "        if not self.is_empty():\n",
    "            return self.start.item\n",
    "        else:\n",
    "            raise IndexError(\"Stack is Empty\")\n",
    "\n",
    "    def size(self):\n",
    "        return self.item_count\n",
    "\n",
    "\n",
    "s1 = Stack1() \n",
    "\n",
    "s1.push(10)\n",
    "s1.push(20)\n",
    "s1.push(30)\n",
    "s1.push(40)\n",
    "\n",
    "print(\"Size\", s1.size())\n",
    "print(\"Top Element\",s1.peek())\n",
    "print(\"Popped\",s1.pop())\n",
    "print(\"Size\", s1.size())\n",
    "print(\"Top Element\",s1.peek())"
   ]
  },
  {
   "cell_type": "code",
   "execution_count": 3,
   "id": "4eefd39f-2cd5-4a76-bc59-1205d14d9a7c",
   "metadata": {},
   "outputs": [],
   "source": [
    "#Inherit stack Linked list class"
   ]
  },
  {
   "cell_type": "code",
   "execution_count": 5,
   "id": "09346854-eb14-4b11-afd7-674bb48fd9ec",
   "metadata": {},
   "outputs": [],
   "source": [
    "from SLL import *"
   ]
  },
  {
   "cell_type": "code",
   "execution_count": 14,
   "id": "eda7462e-6f51-45d6-9374-d0390fb6292d",
   "metadata": {},
   "outputs": [
    {
     "name": "stdout",
     "output_type": "stream",
     "text": [
      "Top Element - 40\n",
      "Size -  4\n",
      "Popped Element - 40\n",
      "Top Element - 30\n",
      "Size -  3\n"
     ]
    }
   ],
   "source": [
    "class Stack2(SLL):\n",
    "    def __init__(self):\n",
    "        super().__init__()\n",
    "        self.item_count = 0\n",
    "        \n",
    "    def is_empty(self):\n",
    "        return self.start is None\n",
    "\n",
    "    def push(self, data):\n",
    "        self.insert_at_begin(data)\n",
    "        self.item_count += 1\n",
    "\n",
    "    def pop(self):\n",
    "        if self.is_empty():\n",
    "            raise IndexError(\"Stack is Empty\")\n",
    "        top_item = self.start.item\n",
    "        self.delete_at_begin()\n",
    "        self.item_count -= 1\n",
    "        return top_item\n",
    "\n",
    "    def peek(self):\n",
    "        if self.is_empty():\n",
    "            raise IndexError(\"Stack is Underflow\")\n",
    "        return self.start.item\n",
    "\n",
    "    def size(self):\n",
    "        return self.item_count\n",
    "\n",
    "\n",
    "s2 = Stack2()\n",
    "s2.push(10)\n",
    "s2.push(20)\n",
    "s2.push(30)\n",
    "s2.push(40)\n",
    "\n",
    "print(\"Top Element -\", s2.peek())  \n",
    "print(\"Size - \", s2.size())\n",
    "print(\"Popped Element -\", s2.pop())\n",
    "print(\"Top Element -\", s2.peek()) \n",
    "print(\"Size - \", s2.size())"
   ]
  },
  {
   "cell_type": "code",
   "execution_count": null,
   "id": "e694ef58-9b5e-4391-b7ac-3f5ae5dba4bb",
   "metadata": {},
   "outputs": [],
   "source": []
  }
 ],
 "metadata": {
  "kernelspec": {
   "display_name": "Python 3 (ipykernel)",
   "language": "python",
   "name": "python3"
  },
  "language_info": {
   "codemirror_mode": {
    "name": "ipython",
    "version": 3
   },
   "file_extension": ".py",
   "mimetype": "text/x-python",
   "name": "python",
   "nbconvert_exporter": "python",
   "pygments_lexer": "ipython3",
   "version": "3.13.2"
  }
 },
 "nbformat": 4,
 "nbformat_minor": 5
}
