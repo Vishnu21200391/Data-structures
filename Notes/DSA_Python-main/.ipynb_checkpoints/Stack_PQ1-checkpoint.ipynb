{
 "cells": [
  {
   "cell_type": "code",
   "execution_count": 1,
   "id": "30d6a09b-b494-4018-b189-b16c9ef3e522",
   "metadata": {},
   "outputs": [],
   "source": [
    "# Reverse a String using a Stack"
   ]
  },
  {
   "cell_type": "code",
   "execution_count": 19,
   "id": "dcc28691-c211-4952-9b4a-64c9806b5ed9",
   "metadata": {},
   "outputs": [
    {
     "name": "stdout",
     "output_type": "stream",
     "text": [
      "niasuH rabkA\n"
     ]
    }
   ],
   "source": [
    "class Stack:\n",
    "    def __init__(self):\n",
    "        self.items = []\n",
    "        self.item_count = 0\n",
    "\n",
    "    def is_empty(self):\n",
    "        return self.item_count == 0\n",
    "\n",
    "    def push(self, data):\n",
    "        self.item_count += 1\n",
    "        return self.items.append(data)\n",
    "\n",
    "    def pop(self):\n",
    "        if not self.is_empty():\n",
    "            self.item_count -= 1\n",
    "            return self.items.pop()\n",
    "\n",
    "    def peek(self):\n",
    "        if not self.is_empty():\n",
    "            return self.items[-1]\n",
    "\n",
    "    def size(self):\n",
    "        return self.item_count\n",
    "\n",
    "s = Stack()\n",
    "\n",
    "str1 = \"Akbar Husain\"\n",
    "\n",
    "for i in str1:\n",
    "    s.push(i)\n",
    "\n",
    "reversed_Str = \"\".join(s.pop() for _ in range(len(str1)))\n",
    "\n",
    "print(reversed_Str)\n",
    "    "
   ]
  },
  {
   "cell_type": "code",
   "execution_count": 20,
   "id": "9661179d-f279-49b7-a46b-fbaf4f6786f6",
   "metadata": {},
   "outputs": [],
   "source": [
    "# Stack Sort Algorithm"
   ]
  },
  {
   "cell_type": "code",
   "execution_count": 26,
   "id": "2ff01d1a-08da-4a0e-b47e-0dc6f02ba23c",
   "metadata": {},
   "outputs": [
    {
     "name": "stdout",
     "output_type": "stream",
     "text": [
      "Original Stack: [10, 203, 305, 25, 1, 53, 72]\n",
      "Sorted Stack: [1, 10, 25, 53, 72, 203, 305]\n"
     ]
    }
   ],
   "source": [
    "class Stack:\n",
    "    def __init__(self):\n",
    "        self.items = []\n",
    "\n",
    "    def is_empty(self):\n",
    "        return len(self.items) == 0\n",
    "\n",
    "    def push(self, data):\n",
    "        self.items.append(data)\n",
    "\n",
    "    def pop(self):\n",
    "        if not self.is_empty():\n",
    "            return self.items.pop()\n",
    "        return None\n",
    "\n",
    "    def peek(self):\n",
    "        if not self.is_empty():\n",
    "            return self.items[-1]\n",
    "        return None\n",
    "\n",
    "    def size(self):\n",
    "        return len(self.items)\n",
    "\n",
    "    def __str__(self):  # This makes print(Stack) show the actual stack contents\n",
    "        return str(self.items)\n",
    "\n",
    "\n",
    "def sort_stack(s):\n",
    "    temp_stack = Stack()\n",
    "\n",
    "    while not s.is_empty():\n",
    "        current = s.pop()\n",
    "\n",
    "        while not temp_stack.is_empty() and temp_stack.peek() < current:\n",
    "            s.push(temp_stack.pop())\n",
    "\n",
    "        temp_stack.push(current)\n",
    "\n",
    "    while not temp_stack.is_empty():\n",
    "        s.push(temp_stack.pop())\n",
    "\n",
    "\n",
    "\n",
    "s = Stack()\n",
    "num = [10, 203, 305, 25, 1, 53, 72]\n",
    "\n",
    "for n in num:\n",
    "    s.push(n)\n",
    "\n",
    "print(\"Original Stack:\", s) \n",
    "sort_stack(s)\n",
    "print(\"Sorted Stack:\", s) \n"
   ]
  },
  {
   "cell_type": "code",
   "execution_count": null,
   "id": "d32d37c1-5375-4611-9258-c873c68b0d5a",
   "metadata": {},
   "outputs": [],
   "source": []
  }
 ],
 "metadata": {
  "kernelspec": {
   "display_name": "Python 3 (ipykernel)",
   "language": "python",
   "name": "python3"
  },
  "language_info": {
   "codemirror_mode": {
    "name": "ipython",
    "version": 3
   },
   "file_extension": ".py",
   "mimetype": "text/x-python",
   "name": "python",
   "nbconvert_exporter": "python",
   "pygments_lexer": "ipython3",
   "version": "3.13.2"
  }
 },
 "nbformat": 4,
 "nbformat_minor": 5
}
