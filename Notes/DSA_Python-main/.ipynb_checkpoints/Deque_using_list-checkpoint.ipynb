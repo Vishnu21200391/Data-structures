{
 "cells": [
  {
   "cell_type": "code",
   "execution_count": 44,
   "id": "0b0221a3-788e-481b-a992-97d94a1c4ad0",
   "metadata": {},
   "outputs": [
    {
     "name": "stdout",
     "output_type": "stream",
     "text": [
      "4\n",
      "Front -> 5 -> 20 -> 10 -> 203 -> Rear\n"
     ]
    }
   ],
   "source": [
    "class Deque:\n",
    "    def __init__(self):\n",
    "        self.items = []\n",
    "        self.item_count = 0\n",
    "\n",
    "    def is_empty(self):\n",
    "        return self.item_count == 0\n",
    "\n",
    "    def insert_front(self, data):\n",
    "        self.item_count += 1\n",
    "        return self.items.insert(0,data)\n",
    "        \n",
    "\n",
    "    def insert_rear(self, data):\n",
    "        self.item_count += 1\n",
    "        return self.items.append(data)\n",
    "\n",
    "    def delete_front(self):\n",
    "        if not self.is_empty():\n",
    "            self.item_count -= 1\n",
    "            return self.items.pop(0)\n",
    "        else:\n",
    "            raise IndexError(\"Empty\")\n",
    "\n",
    "    def delete_rear(self):\n",
    "        if not self.is_empty():\n",
    "            self.item_count -= 1\n",
    "            return self.items.pop()\n",
    "        else:\n",
    "            print(\"Empty\")\n",
    "            \n",
    "    def get_front(self):\n",
    "        if self.is_empty():\n",
    "            raise IndexError(\"Empty\")\n",
    "        return self.items[0]\n",
    "\n",
    "    def get_rear(self):\n",
    "        if self.is_empty():\n",
    "            raise IndexError(\"Empty\")\n",
    "        return self.items[-1]\n",
    "\n",
    "    def size(self):\n",
    "        return self.item_count\n",
    "\n",
    "    def display(self):\n",
    "        if self.is_empty():\n",
    "            print(\"Queue is empty\")\n",
    "        else:\n",
    "            print(f\"Front -> {' -> '.join(str(item) for item in self.items)} -> Rear\")\n",
    "\n",
    "\n",
    "d = Deque()\n",
    "\n",
    "d.insert_front(10)\n",
    "d.insert_front(20)\n",
    "d.insert_front(5)\n",
    "d.insert_front(3)\n",
    "d.insert_rear(203)\n",
    "d.insert_rear(1)\n",
    "\n",
    "# d.delete_front()\n",
    "d.delete_front()\n",
    "d.delete_rear()\n",
    "\n",
    "print(d.size())\n",
    "d.display()"
   ]
  },
  {
   "cell_type": "code",
   "execution_count": null,
   "id": "5f48076e-45f1-4ce0-96d2-1f74b902e48e",
   "metadata": {},
   "outputs": [],
   "source": []
  }
 ],
 "metadata": {
  "kernelspec": {
   "display_name": "Python 3 (ipykernel)",
   "language": "python",
   "name": "python3"
  },
  "language_info": {
   "codemirror_mode": {
    "name": "ipython",
    "version": 3
   },
   "file_extension": ".py",
   "mimetype": "text/x-python",
   "name": "python",
   "nbconvert_exporter": "python",
   "pygments_lexer": "ipython3",
   "version": "3.13.2"
  }
 },
 "nbformat": 4,
 "nbformat_minor": 5
}
