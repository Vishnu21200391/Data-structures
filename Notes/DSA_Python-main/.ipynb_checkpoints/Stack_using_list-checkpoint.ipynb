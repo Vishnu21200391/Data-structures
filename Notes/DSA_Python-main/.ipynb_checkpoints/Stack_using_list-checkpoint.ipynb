{
 "cells": [
  {
   "cell_type": "code",
   "execution_count": 1,
   "id": "03f7d06a-e1a9-4283-879b-ed0eeb9b9cdc",
   "metadata": {},
   "outputs": [
    {
     "name": "stdout",
     "output_type": "stream",
     "text": [
      "\n",
      "1. Push\n",
      "2. Pop\n",
      "3. Peek\n",
      "4. Display\n",
      "5. Size\n",
      "6. Exit\n"
     ]
    },
    {
     "name": "stdin",
     "output_type": "stream",
     "text": [
      "Enter your choice:  5\n"
     ]
    },
    {
     "name": "stdout",
     "output_type": "stream",
     "text": [
      "Size of stack: 0\n",
      "\n",
      "1. Push\n",
      "2. Pop\n",
      "3. Peek\n",
      "4. Display\n",
      "5. Size\n",
      "6. Exit\n"
     ]
    },
    {
     "name": "stdin",
     "output_type": "stream",
     "text": [
      "Enter your choice:  1\n",
      "Enter data to push:  10\n"
     ]
    },
    {
     "name": "stdout",
     "output_type": "stream",
     "text": [
      "Pushed: 10\n",
      "\n",
      "1. Push\n",
      "2. Pop\n",
      "3. Peek\n",
      "4. Display\n",
      "5. Size\n",
      "6. Exit\n"
     ]
    },
    {
     "name": "stdin",
     "output_type": "stream",
     "text": [
      "Enter your choice:  1\n",
      "Enter data to push:  20\n"
     ]
    },
    {
     "name": "stdout",
     "output_type": "stream",
     "text": [
      "Pushed: 20\n",
      "\n",
      "1. Push\n",
      "2. Pop\n",
      "3. Peek\n",
      "4. Display\n",
      "5. Size\n",
      "6. Exit\n"
     ]
    },
    {
     "name": "stdin",
     "output_type": "stream",
     "text": [
      "Enter your choice:  4\n"
     ]
    },
    {
     "name": "stdout",
     "output_type": "stream",
     "text": [
      "Stack elements: ['20', '10']\n",
      "\n",
      "1. Push\n",
      "2. Pop\n",
      "3. Peek\n",
      "4. Display\n",
      "5. Size\n",
      "6. Exit\n"
     ]
    },
    {
     "name": "stdin",
     "output_type": "stream",
     "text": [
      "Enter your choice:  5\n"
     ]
    },
    {
     "name": "stdout",
     "output_type": "stream",
     "text": [
      "Size of stack: 2\n",
      "\n",
      "1. Push\n",
      "2. Pop\n",
      "3. Peek\n",
      "4. Display\n",
      "5. Size\n",
      "6. Exit\n"
     ]
    },
    {
     "name": "stdin",
     "output_type": "stream",
     "text": [
      "Enter your choice:  3\n"
     ]
    },
    {
     "name": "stdout",
     "output_type": "stream",
     "text": [
      "Top element: 20\n",
      "\n",
      "1. Push\n",
      "2. Pop\n",
      "3. Peek\n",
      "4. Display\n",
      "5. Size\n",
      "6. Exit\n"
     ]
    },
    {
     "name": "stdin",
     "output_type": "stream",
     "text": [
      "Enter your choice:  2\n"
     ]
    },
    {
     "name": "stdout",
     "output_type": "stream",
     "text": [
      "Popped: 20\n",
      "\n",
      "1. Push\n",
      "2. Pop\n",
      "3. Peek\n",
      "4. Display\n",
      "5. Size\n",
      "6. Exit\n"
     ]
    },
    {
     "name": "stdin",
     "output_type": "stream",
     "text": [
      "Enter your choice:  4\n"
     ]
    },
    {
     "name": "stdout",
     "output_type": "stream",
     "text": [
      "Stack elements: ['10']\n",
      "\n",
      "1. Push\n",
      "2. Pop\n",
      "3. Peek\n",
      "4. Display\n",
      "5. Size\n",
      "6. Exit\n"
     ]
    },
    {
     "name": "stdin",
     "output_type": "stream",
     "text": [
      "Enter your choice:  6\n"
     ]
    },
    {
     "name": "stdout",
     "output_type": "stream",
     "text": [
      "Exiting...\n"
     ]
    }
   ],
   "source": [
    "class Stack:\n",
    "    def __init__(self):\n",
    "        self.element = []\n",
    "\n",
    "    def is_empty(self):\n",
    "        return self.element == []\n",
    "\n",
    "    def push(self, data):\n",
    "        self.element.append(data)\n",
    "\n",
    "    def pop(self):\n",
    "        if self.is_empty():\n",
    "            print(\"underflow\")\n",
    "            return None\n",
    "        return self.element.pop()\n",
    "\n",
    "    def peek(self):\n",
    "        if self.is_empty():\n",
    "            print(\"Stack is empty\")\n",
    "            return None\n",
    "        return self.element[-1]\n",
    "\n",
    "    def size(self):\n",
    "        return len(self.element)\n",
    "\n",
    "    def display(self):\n",
    "        if self.is_empty():\n",
    "            print(\"Stack is empty\")\n",
    "        else:\n",
    "            print(\"Stack elements:\", self.element[::-1])\n",
    "\n",
    "\n",
    "s = Stack()\n",
    "\n",
    "while True:\n",
    "    print(\"\\n1. Push\")\n",
    "    print(\"2. Pop\")\n",
    "    print(\"3. Peek\")\n",
    "    print(\"4. Display\")\n",
    "    print(\"5. Size\")\n",
    "    print(\"6. Exit\")\n",
    "    \n",
    "    choice = int(input(\"Enter your choice: \"))\n",
    "    \n",
    "    if choice == 1:\n",
    "        data = input(\"Enter data to push: \")\n",
    "        s.push(data)\n",
    "        print(f\"Pushed: {data}\")\n",
    "        \n",
    "    elif choice == 2:\n",
    "        popped = s.pop()\n",
    "        if popped is not None:\n",
    "            print(f\"Popped: {popped}\")\n",
    "        \n",
    "    elif choice == 3:\n",
    "        top = s.peek()\n",
    "        if top is not None:\n",
    "            print(f\"Top element: {top}\")\n",
    "    \n",
    "    elif choice == 4:\n",
    "        s.display()\n",
    "        \n",
    "    elif choice == 5:\n",
    "        print(f\"Size of stack: {s.size()}\")\n",
    "        \n",
    "    elif choice == 6:\n",
    "        print(\"Exiting...\")\n",
    "        break\n",
    "    \n",
    "    else:\n",
    "        print(\"Invalid choice. Try again.\")\n"
   ]
  },
  {
   "cell_type": "code",
   "execution_count": 7,
   "id": "b88f8b95-acbc-4c42-8895-4282259324ef",
   "metadata": {},
   "outputs": [
    {
     "name": "stdout",
     "output_type": "stream",
     "text": [
      "\n",
      "    1. Push\n",
      "    2. Pop\n",
      "    3. Peek\n",
      "    4. Size\n",
      "    5. Display\n",
      "    6. Exit\n",
      "\n",
      "    \n"
     ]
    },
    {
     "name": "stdin",
     "output_type": "stream",
     "text": [
      "Enter your Choice: 1\n",
      "Enter Data to push 10\n"
     ]
    },
    {
     "name": "stdout",
     "output_type": "stream",
     "text": [
      "\n",
      "    1. Push\n",
      "    2. Pop\n",
      "    3. Peek\n",
      "    4. Size\n",
      "    5. Display\n",
      "    6. Exit\n",
      "\n",
      "    \n"
     ]
    },
    {
     "name": "stdin",
     "output_type": "stream",
     "text": [
      "Enter your Choice: 1\n",
      "Enter Data to push 20\n"
     ]
    },
    {
     "name": "stdout",
     "output_type": "stream",
     "text": [
      "\n",
      "    1. Push\n",
      "    2. Pop\n",
      "    3. Peek\n",
      "    4. Size\n",
      "    5. Display\n",
      "    6. Exit\n",
      "\n",
      "    \n"
     ]
    },
    {
     "name": "stdin",
     "output_type": "stream",
     "text": [
      "Enter your Choice: 1\n",
      "Enter Data to push 20\n"
     ]
    },
    {
     "name": "stdout",
     "output_type": "stream",
     "text": [
      "\n",
      "    1. Push\n",
      "    2. Pop\n",
      "    3. Peek\n",
      "    4. Size\n",
      "    5. Display\n",
      "    6. Exit\n",
      "\n",
      "    \n"
     ]
    },
    {
     "name": "stdin",
     "output_type": "stream",
     "text": [
      "Enter your Choice: 1\n",
      "Enter Data to push 30\n"
     ]
    },
    {
     "name": "stdout",
     "output_type": "stream",
     "text": [
      "\n",
      "    1. Push\n",
      "    2. Pop\n",
      "    3. Peek\n",
      "    4. Size\n",
      "    5. Display\n",
      "    6. Exit\n",
      "\n",
      "    \n"
     ]
    },
    {
     "name": "stdin",
     "output_type": "stream",
     "text": [
      "Enter your Choice: 1\n",
      "Enter Data to push 40\n"
     ]
    },
    {
     "name": "stdout",
     "output_type": "stream",
     "text": [
      "\n",
      "    1. Push\n",
      "    2. Pop\n",
      "    3. Peek\n",
      "    4. Size\n",
      "    5. Display\n",
      "    6. Exit\n",
      "\n",
      "    \n"
     ]
    },
    {
     "name": "stdin",
     "output_type": "stream",
     "text": [
      "Enter your Choice: 5\n"
     ]
    },
    {
     "name": "stdout",
     "output_type": "stream",
     "text": [
      "[10, 20, 20, 30, 40]\n",
      "\n",
      "    1. Push\n",
      "    2. Pop\n",
      "    3. Peek\n",
      "    4. Size\n",
      "    5. Display\n",
      "    6. Exit\n",
      "\n",
      "    \n"
     ]
    },
    {
     "name": "stdin",
     "output_type": "stream",
     "text": [
      "Enter your Choice: 2\n"
     ]
    },
    {
     "name": "stdout",
     "output_type": "stream",
     "text": [
      "Remove Element -  40\n",
      "\n",
      "    1. Push\n",
      "    2. Pop\n",
      "    3. Peek\n",
      "    4. Size\n",
      "    5. Display\n",
      "    6. Exit\n",
      "\n",
      "    \n"
     ]
    },
    {
     "name": "stdin",
     "output_type": "stream",
     "text": [
      "Enter your Choice: 3\n"
     ]
    },
    {
     "name": "stdout",
     "output_type": "stream",
     "text": [
      "Top Element - 30\n",
      "\n",
      "    1. Push\n",
      "    2. Pop\n",
      "    3. Peek\n",
      "    4. Size\n",
      "    5. Display\n",
      "    6. Exit\n",
      "\n",
      "    \n"
     ]
    },
    {
     "name": "stdin",
     "output_type": "stream",
     "text": [
      "Enter your Choice: 4\n"
     ]
    },
    {
     "name": "stdout",
     "output_type": "stream",
     "text": [
      "Size of Stack -  4\n",
      "\n",
      "    1. Push\n",
      "    2. Pop\n",
      "    3. Peek\n",
      "    4. Size\n",
      "    5. Display\n",
      "    6. Exit\n",
      "\n",
      "    \n"
     ]
    },
    {
     "name": "stdin",
     "output_type": "stream",
     "text": [
      "Enter your Choice: 6\n"
     ]
    },
    {
     "name": "stdout",
     "output_type": "stream",
     "text": [
      "Exiting....\n"
     ]
    }
   ],
   "source": [
    "class Stack:\n",
    "    def __init__(self):\n",
    "        self.item = []\n",
    "\n",
    "    def is_empty(self):\n",
    "        return len(self.item) == 0\n",
    "\n",
    "    def push(self,data):\n",
    "        self.item.append(data)\n",
    "\n",
    "    def pop(self):\n",
    "        if not self.is_empty():\n",
    "            return self.item.pop()\n",
    "        else:\n",
    "            print(\"LL is Empty\")\n",
    "\n",
    "    def peek(self):\n",
    "        if not self.is_empty():\n",
    "            return self.item[-1]\n",
    "\n",
    "    def size(self):\n",
    "        return len(self.item)\n",
    "\n",
    "    def display(self):\n",
    "        return self.item\n",
    "\n",
    "\n",
    "\n",
    "s = Stack()\n",
    "\n",
    "while True:\n",
    "    print(\"\"\"\n",
    "    1. Push\n",
    "    2. Pop\n",
    "    3. Peek\n",
    "    4. Size\n",
    "    5. Display\n",
    "    6. Exit\n",
    "    \n",
    "    \"\"\")\n",
    "\n",
    "    choice = int(input(\"Enter your Choice:\"))\n",
    "\n",
    "    if choice == 1:\n",
    "        data = int(input(\"Enter Data to push\"))\n",
    "        s.push(data)\n",
    "    elif choice == 2:\n",
    "        print(\"Remove Element - \", s.pop())\n",
    "    elif choice == 3:\n",
    "        print(\"Top Element -\",s.peek())\n",
    "    elif choice == 4:\n",
    "        print(\"Size of Stack - \", s.size())\n",
    "    elif choice == 5:\n",
    "        print(s.display())\n",
    "    elif choice == 6:\n",
    "        print(\"Exiting....\")\n",
    "        break\n",
    "    else:\n",
    "        print(\"Invalid Choice Please enter Number between 1 to 6 :(\")"
   ]
  },
  {
   "cell_type": "code",
   "execution_count": 1,
   "id": "ec33ad0f-f0aa-4e72-96aa-a5378157e9a1",
   "metadata": {},
   "outputs": [],
   "source": [
    "## Using inherit List Class"
   ]
  },
  {
   "cell_type": "code",
   "execution_count": 9,
   "id": "fc28fd5b-187f-4c8f-90a5-fec1a4855b63",
   "metadata": {},
   "outputs": [
    {
     "name": "stdout",
     "output_type": "stream",
     "text": [
      "Insert Function is not There\n",
      "20\n",
      "2\n"
     ]
    }
   ],
   "source": [
    "class Stack(list):\n",
    "    def is_empty(self):\n",
    "        return len(self) == 0\n",
    "\n",
    "    def push(self, data):\n",
    "        self.append(data)\n",
    "\n",
    "    def pop(self):\n",
    "        if not self.is_empty():\n",
    "            super().pop()\n",
    "        else:\n",
    "            return IndexError(\"Stack is Empty\")\n",
    "\n",
    "\n",
    "    def peek(self):\n",
    "        if not self.is_empty():\n",
    "            return self[-1]\n",
    "        else:\n",
    "            return IndexError(\"Stack is Empty\")\n",
    "\n",
    "    def size(self):\n",
    "        return len(self)\n",
    "\n",
    "    def insert(self, index, data):\n",
    "        return AttributeError(\"Insert Function is not There\")\n",
    "\n",
    "s1 = Stack()\n",
    "\n",
    "s1.push(10)\n",
    "s1.push(20)\n",
    "s1.push(30)\n",
    "s1.pop()\n",
    "print(s1.insert(2,30))\n",
    "print(s1.peek())\n",
    "print(s1.size())"
   ]
  },
  {
   "cell_type": "code",
   "execution_count": null,
   "id": "956a9ec0-3b3c-47a6-9a37-97f2d3ea2f9f",
   "metadata": {},
   "outputs": [],
   "source": []
  }
 ],
 "metadata": {
  "kernelspec": {
   "display_name": "Python 3 (ipykernel)",
   "language": "python",
   "name": "python3"
  },
  "language_info": {
   "codemirror_mode": {
    "name": "ipython",
    "version": 3
   },
   "file_extension": ".py",
   "mimetype": "text/x-python",
   "name": "python",
   "nbconvert_exporter": "python",
   "pygments_lexer": "ipython3",
   "version": "3.13.2"
  }
 },
 "nbformat": 4,
 "nbformat_minor": 5
}
