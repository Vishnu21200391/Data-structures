{
 "cells": [
  {
   "cell_type": "code",
   "execution_count": 2,
   "id": "49a39e30-8704-4c3e-a93a-c65260578f61",
   "metadata": {},
   "outputs": [
    {
     "name": "stdout",
     "output_type": "stream",
     "text": [
      "\n",
      "Program to implement priority queue\n",
      "1. Enqueue\n",
      "2. Dequeue\n",
      "3. Peek\n",
      "4. Display\n",
      "5. Size\n",
      "6. Exit\n"
     ]
    },
    {
     "name": "stdin",
     "output_type": "stream",
     "text": [
      "Enter your choice (1-6):  1\n",
      "Enter data to enqueue:  10\n",
      "Enter priority:  1\n"
     ]
    },
    {
     "name": "stdout",
     "output_type": "stream",
     "text": [
      "Enqueued: 10\n",
      "\n",
      "Program to implement priority queue\n",
      "1. Enqueue\n",
      "2. Dequeue\n",
      "3. Peek\n",
      "4. Display\n",
      "5. Size\n",
      "6. Exit\n"
     ]
    },
    {
     "name": "stdin",
     "output_type": "stream",
     "text": [
      "Enter your choice (1-6):  1\n",
      "Enter data to enqueue:  20\n",
      "Enter priority:  2\n"
     ]
    },
    {
     "name": "stdout",
     "output_type": "stream",
     "text": [
      "Enqueued: 20\n",
      "\n",
      "Program to implement priority queue\n",
      "1. Enqueue\n",
      "2. Dequeue\n",
      "3. Peek\n",
      "4. Display\n",
      "5. Size\n",
      "6. Exit\n"
     ]
    },
    {
     "name": "stdin",
     "output_type": "stream",
     "text": [
      "Enter your choice (1-6):  1\n",
      "Enter data to enqueue:  30\n",
      "Enter priority:  3\n"
     ]
    },
    {
     "name": "stdout",
     "output_type": "stream",
     "text": [
      "Enqueued: 30\n",
      "\n",
      "Program to implement priority queue\n",
      "1. Enqueue\n",
      "2. Dequeue\n",
      "3. Peek\n",
      "4. Display\n",
      "5. Size\n",
      "6. Exit\n"
     ]
    },
    {
     "name": "stdin",
     "output_type": "stream",
     "text": [
      "Enter your choice (1-6):  4\n"
     ]
    },
    {
     "name": "stdout",
     "output_type": "stream",
     "text": [
      "Queue contents:\n",
      "|  30(3) |  20(2) |  10(1) |\n",
      "\n",
      "Program to implement priority queue\n",
      "1. Enqueue\n",
      "2. Dequeue\n",
      "3. Peek\n",
      "4. Display\n",
      "5. Size\n",
      "6. Exit\n"
     ]
    },
    {
     "name": "stdin",
     "output_type": "stream",
     "text": [
      "Enter your choice (1-6):  3\n"
     ]
    },
    {
     "name": "stdout",
     "output_type": "stream",
     "text": [
      "Front item: 30 with priority 3\n",
      "\n",
      "Program to implement priority queue\n",
      "1. Enqueue\n",
      "2. Dequeue\n",
      "3. Peek\n",
      "4. Display\n",
      "5. Size\n",
      "6. Exit\n"
     ]
    },
    {
     "name": "stdin",
     "output_type": "stream",
     "text": [
      "Enter your choice (1-6):  5\n"
     ]
    },
    {
     "name": "stdout",
     "output_type": "stream",
     "text": [
      "Queue size: 3\n",
      "\n",
      "Program to implement priority queue\n",
      "1. Enqueue\n",
      "2. Dequeue\n",
      "3. Peek\n",
      "4. Display\n",
      "5. Size\n",
      "6. Exit\n"
     ]
    },
    {
     "name": "stdin",
     "output_type": "stream",
     "text": [
      "Enter your choice (1-6):  6\n"
     ]
    },
    {
     "name": "stdout",
     "output_type": "stream",
     "text": [
      "Exiting program.\n"
     ]
    }
   ],
   "source": [
    "class Node:\n",
    "    def __init__(self, NewData, NewPriority):\n",
    "        self.data = NewData\n",
    "        self.priority = NewPriority\n",
    "\n",
    "class PriorityQueue:\n",
    "    def __init__(self):\n",
    "        self.items = []\n",
    "\n",
    "    def is_empty(self):\n",
    "        return self.items == []\n",
    "\n",
    "    def enqueue(self, item):\n",
    "        for i in range(len(self.items)):\n",
    "            if item.priority >= self.items[i].priority:\n",
    "                self.items.insert(i, item)\n",
    "                break\n",
    "        else:\n",
    "            self.items.append(item)\n",
    "\n",
    "    def dequeue(self):\n",
    "        if not self.is_empty():\n",
    "            return self.items.pop(0)\n",
    "\n",
    "    def peek(self):\n",
    "        if not self.is_empty():\n",
    "            return self.items[0]\n",
    "\n",
    "    def size(self):\n",
    "        return len(self.items)\n",
    "\n",
    "    def display(self):\n",
    "        for item in self.items:\n",
    "            print(\"|\", format(str(item.data) + \"(\" + str(item.priority) + \")\", \">6\"), end=\" \")\n",
    "        print(\"|\")\n",
    "\n",
    "\n",
    "q = PriorityQueue()\n",
    "\n",
    "while True:\n",
    "    print(\"\\nProgram to implement priority queue\")\n",
    "    print(\"1. Enqueue\")\n",
    "    print(\"2. Dequeue\")\n",
    "    print(\"3. Peek\")\n",
    "    print(\"4. Display\")\n",
    "    print(\"5. Size\")\n",
    "    print(\"6. Exit\")\n",
    "\n",
    "    choice = input(\"Enter your choice (1-6): \")\n",
    "\n",
    "    if choice == '1':\n",
    "        data = input(\"Enter data to enqueue: \")\n",
    "        priority = int(input(\"Enter priority: \"))\n",
    "        q.enqueue(Node(data, priority))\n",
    "        print(\"Enqueued:\", data)\n",
    "\n",
    "    elif choice == '2':\n",
    "        removed = q.dequeue()\n",
    "        if removed:\n",
    "            print(\"Dequeued:\", removed.data)\n",
    "        else:\n",
    "            print(\"Queue is empty.\")\n",
    "\n",
    "    elif choice == '3':\n",
    "        top = q.peek()\n",
    "        if top:\n",
    "            print(\"Front item:\", top.data, \"with priority\", top.priority)\n",
    "        else:\n",
    "            print(\"Queue is empty.\")\n",
    "\n",
    "    elif choice == '4':\n",
    "        print(\"Queue contents:\")\n",
    "        q.display()\n",
    "\n",
    "    elif choice == '5':\n",
    "        print(\"Queue size:\", q.size())\n",
    "\n",
    "    elif choice == '6':\n",
    "        print(\"Exiting program.\")\n",
    "        break\n",
    "\n",
    "    else:\n",
    "        print(\"Invalid choice. Please try again.\")\n"
   ]
  },
  {
   "cell_type": "code",
   "execution_count": 2,
   "id": "0155b30a-5ca6-4a7f-abb3-1ba9fdb033ad",
   "metadata": {},
   "outputs": [
    {
     "name": "stdout",
     "output_type": "stream",
     "text": [
      "Fhia\n",
      "Dan\n",
      "Hamma\n",
      "Alice\n",
      "Eva\n",
      "bob\n",
      "chloe\n",
      "Guido\n"
     ]
    }
   ],
   "source": [
    "class PQueue:\n",
    "    def __init__(self):\n",
    "        self.items = []\n",
    "\n",
    "    def is_empty(self):\n",
    "        return len(self.items) == 0\n",
    "\n",
    "    def push(self, data, priority):\n",
    "        index = 0\n",
    "        while index < len(self.items) and self.items[index][1] <= priority:\n",
    "            index += 1\n",
    "        self.items.insert(index,(data,priority))\n",
    "\n",
    "    def pop(self):\n",
    "        if self.is_empty():\n",
    "            raise IndexError(\"Empty\")\n",
    "        else:\n",
    "            return self.items.pop(0)[0]\n",
    "\n",
    "    def size(self):\n",
    "        return len(self.items)\n",
    "\n",
    "p = PQueue()\n",
    "\n",
    "p.push(\"Alice\", 3)\n",
    "p.push(\"bob\", 5)\n",
    "p.push(\"chloe\", 8)\n",
    "p.push(\"Dan\", 2)\n",
    "p.push(\"Eva\", 4)\n",
    "p.push(\"Fhia\", 1)\n",
    "p.push(\"Guido\", 10)\n",
    "p.push(\"Hamma\", 2)\n",
    "\n",
    "while not p.is_empty():\n",
    "    print(p.pop())"
   ]
  },
  {
   "cell_type": "code",
   "execution_count": null,
   "id": "873cbe1c-52c5-4fb9-a825-29ad3aaf4aa2",
   "metadata": {},
   "outputs": [],
   "source": []
  }
 ],
 "metadata": {
  "kernelspec": {
   "display_name": "Python 3 (ipykernel)",
   "language": "python",
   "name": "python3"
  },
  "language_info": {
   "codemirror_mode": {
    "name": "ipython",
    "version": 3
   },
   "file_extension": ".py",
   "mimetype": "text/x-python",
   "name": "python",
   "nbconvert_exporter": "python",
   "pygments_lexer": "ipython3",
   "version": "3.13.2"
  }
 },
 "nbformat": 4,
 "nbformat_minor": 5
}
