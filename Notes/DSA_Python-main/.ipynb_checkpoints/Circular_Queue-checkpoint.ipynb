{
 "cells": [
  {
   "cell_type": "code",
   "execution_count": 2,
   "id": "3449aee0-6e3a-4830-ba3c-88eddcae24cc",
   "metadata": {},
   "outputs": [
    {
     "name": "stdout",
     "output_type": "stream",
     "text": [
      "\n",
      "Circular Queue Operations:\n",
      "1. Enqueue\n",
      "2. Dequeue\n",
      "3. Peek\n",
      "4. Display\n",
      "5. Exit\n"
     ]
    },
    {
     "name": "stdin",
     "output_type": "stream",
     "text": [
      "Enter your choice:  1\n",
      "Enter data to enqueue:  10\n"
     ]
    },
    {
     "name": "stdout",
     "output_type": "stream",
     "text": [
      "10 enqueued successfully.\n",
      "\n",
      "Circular Queue Operations:\n",
      "1. Enqueue\n",
      "2. Dequeue\n",
      "3. Peek\n",
      "4. Display\n",
      "5. Exit\n"
     ]
    },
    {
     "name": "stdin",
     "output_type": "stream",
     "text": [
      "Enter your choice:  1\n",
      "Enter data to enqueue:  20\n"
     ]
    },
    {
     "name": "stdout",
     "output_type": "stream",
     "text": [
      "20 enqueued successfully.\n",
      "\n",
      "Circular Queue Operations:\n",
      "1. Enqueue\n",
      "2. Dequeue\n",
      "3. Peek\n",
      "4. Display\n",
      "5. Exit\n"
     ]
    },
    {
     "name": "stdin",
     "output_type": "stream",
     "text": [
      "Enter your choice:  1\n",
      "Enter data to enqueue:  30\n"
     ]
    },
    {
     "name": "stdout",
     "output_type": "stream",
     "text": [
      "30 enqueued successfully.\n",
      "\n",
      "Circular Queue Operations:\n",
      "1. Enqueue\n",
      "2. Dequeue\n",
      "3. Peek\n",
      "4. Display\n",
      "5. Exit\n"
     ]
    },
    {
     "name": "stdin",
     "output_type": "stream",
     "text": [
      "Enter your choice:  3\n"
     ]
    },
    {
     "name": "stdout",
     "output_type": "stream",
     "text": [
      "Front element: 10\n",
      "\n",
      "Circular Queue Operations:\n",
      "1. Enqueue\n",
      "2. Dequeue\n",
      "3. Peek\n",
      "4. Display\n",
      "5. Exit\n"
     ]
    },
    {
     "name": "stdin",
     "output_type": "stream",
     "text": [
      "Enter your choice:  4\n"
     ]
    },
    {
     "name": "stdout",
     "output_type": "stream",
     "text": [
      "10 -> 20 -> 30\n",
      "\n",
      "Circular Queue Operations:\n",
      "1. Enqueue\n",
      "2. Dequeue\n",
      "3. Peek\n",
      "4. Display\n",
      "5. Exit\n"
     ]
    },
    {
     "name": "stdin",
     "output_type": "stream",
     "text": [
      "Enter your choice:  2\n"
     ]
    },
    {
     "name": "stdout",
     "output_type": "stream",
     "text": [
      "Dequeued: 10\n",
      "\n",
      "Circular Queue Operations:\n",
      "1. Enqueue\n",
      "2. Dequeue\n",
      "3. Peek\n",
      "4. Display\n",
      "5. Exit\n"
     ]
    },
    {
     "name": "stdin",
     "output_type": "stream",
     "text": [
      "Enter your choice:  2\n"
     ]
    },
    {
     "name": "stdout",
     "output_type": "stream",
     "text": [
      "Dequeued: 20\n",
      "\n",
      "Circular Queue Operations:\n",
      "1. Enqueue\n",
      "2. Dequeue\n",
      "3. Peek\n",
      "4. Display\n",
      "5. Exit\n"
     ]
    },
    {
     "name": "stdin",
     "output_type": "stream",
     "text": [
      "Enter your choice:  2\n"
     ]
    },
    {
     "name": "stdout",
     "output_type": "stream",
     "text": [
      "Dequeued: 30\n",
      "\n",
      "Circular Queue Operations:\n",
      "1. Enqueue\n",
      "2. Dequeue\n",
      "3. Peek\n",
      "4. Display\n",
      "5. Exit\n"
     ]
    },
    {
     "name": "stdin",
     "output_type": "stream",
     "text": [
      "Enter your choice:  2\n"
     ]
    },
    {
     "name": "stdout",
     "output_type": "stream",
     "text": [
      "Queue is empty\n",
      "\n",
      "Circular Queue Operations:\n",
      "1. Enqueue\n",
      "2. Dequeue\n",
      "3. Peek\n",
      "4. Display\n",
      "5. Exit\n"
     ]
    },
    {
     "name": "stdin",
     "output_type": "stream",
     "text": [
      "Enter your choice:  5\n"
     ]
    },
    {
     "name": "stdout",
     "output_type": "stream",
     "text": [
      "Exiting...\n"
     ]
    }
   ],
   "source": [
    "class Node:\n",
    "    def __init__(self, newdata, link=None):\n",
    "        self.data = newdata\n",
    "        self.next = link\n",
    "\n",
    "\n",
    "class CircularQueue:\n",
    "    def __init__(self):\n",
    "        self.tail = None\n",
    "\n",
    "    def is_empty(self):\n",
    "        return self.tail is None\n",
    "\n",
    "    def enqueue(self, newdata):\n",
    "        n = Node(newdata)\n",
    "        if self.is_empty():\n",
    "            n.next = n\n",
    "            self.tail = n\n",
    "        else:\n",
    "            n.next = self.tail.next\n",
    "            self.tail.next = n\n",
    "            self.tail = n\n",
    "\n",
    "    def peek(self):\n",
    "        if self.is_empty():\n",
    "            raise Exception(\"Queue is empty\")\n",
    "        return self.tail.next.data\n",
    "\n",
    "    def dequeue(self):\n",
    "        if self.is_empty():\n",
    "            raise Exception(\"Queue is empty\")\n",
    "\n",
    "        frontnode = self.tail.next\n",
    "        if frontnode == self.tail:\n",
    "            self.tail = None\n",
    "        else:\n",
    "            self.tail.next = frontnode.next\n",
    "\n",
    "        return frontnode.data\n",
    "\n",
    "    def display(self):\n",
    "        if self.is_empty():\n",
    "            print(\"Queue is empty\")\n",
    "            return\n",
    "\n",
    "        curNode = self.tail.next\n",
    "        while curNode != self.tail:\n",
    "            print(curNode.data, end=\" -> \")\n",
    "            curNode = curNode.next\n",
    "        print(curNode.data)\n",
    "\n",
    "\n",
    "cq = CircularQueue()\n",
    "\n",
    "while True:\n",
    "    print(\"\\nCircular Queue Operations:\")\n",
    "    print(\"1. Enqueue\")\n",
    "    print(\"2. Dequeue\")\n",
    "    print(\"3. Peek\")\n",
    "    print(\"4. Display\")\n",
    "    print(\"5. Exit\")\n",
    "\n",
    "    choice = input(\"Enter your choice: \")\n",
    "\n",
    "    if choice == \"1\":\n",
    "        data = input(\"Enter data to enqueue: \")\n",
    "        cq.enqueue(data)\n",
    "        print(f\"{data} enqueued successfully.\")\n",
    "    elif choice == \"2\":\n",
    "        try:\n",
    "            print(\"Dequeued:\", cq.dequeue())\n",
    "        except Exception as e:\n",
    "            print(e)\n",
    "    elif choice == \"3\":\n",
    "        try:\n",
    "            print(\"Front element:\", cq.peek())\n",
    "        except Exception as e:\n",
    "            print(e)\n",
    "    elif choice == \"4\":\n",
    "        cq.display()\n",
    "    elif choice == \"5\":\n",
    "        print(\"Exiting...\")\n",
    "        break\n",
    "    else:\n",
    "        print(\"Invalid choice! Please try again.\")"
   ]
  },
  {
   "cell_type": "code",
   "execution_count": null,
   "id": "4f6e54df-12e9-4a27-9df6-16684175b3d4",
   "metadata": {},
   "outputs": [],
   "source": []
  }
 ],
 "metadata": {
  "kernelspec": {
   "display_name": "Python 3 (ipykernel)",
   "language": "python",
   "name": "python3"
  },
  "language_info": {
   "codemirror_mode": {
    "name": "ipython",
    "version": 3
   },
   "file_extension": ".py",
   "mimetype": "text/x-python",
   "name": "python",
   "nbconvert_exporter": "python",
   "pygments_lexer": "ipython3",
   "version": "3.13.2"
  }
 },
 "nbformat": 4,
 "nbformat_minor": 5
}
