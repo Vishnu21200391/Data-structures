{
 "cells": [
  {
   "cell_type": "code",
   "execution_count": 1,
   "id": "c8bb47f7-63ff-4684-a948-8d2ec5597b30",
   "metadata": {},
   "outputs": [],
   "source": [
    "from collections import deque"
   ]
  },
  {
   "cell_type": "code",
   "execution_count": 20,
   "id": "0e9a1460-04dd-4066-850b-aabd389d81db",
   "metadata": {},
   "outputs": [
    {
     "name": "stdout",
     "output_type": "stream",
     "text": [
      "Original: Hello world\n",
      "Reversed: dlrow olleH\n"
     ]
    }
   ],
   "source": [
    "class Stack:\n",
    "    def __init__(self):\n",
    "        self.elements = deque() \n",
    "        self.item_count = 0\n",
    "\n",
    "    def is_empty(self):\n",
    "        return self.item_count == 0\n",
    "\n",
    "    def push(self, data):\n",
    "        self.elements.append(data)\n",
    "        self.item_count += 1\n",
    "\n",
    "    def pop(self):\n",
    "        if not self.is_empty():\n",
    "            self.item_count -= 1\n",
    "            return self.elements.pop()\n",
    "        else:\n",
    "            raise IndexError(\"Stack is Empty\")\n",
    "\n",
    "    def peek(self):\n",
    "        if not self.is_empty():\n",
    "            return self.elements[-1]\n",
    "        else:\n",
    "            raise IndexError(\"Stack is Empty\")\n",
    "\n",
    "    def size(self):\n",
    "        return self.item_count\n",
    "\n",
    "\n",
    "\n",
    "def reverse_string(input_str):\n",
    "    s = Stack()\n",
    "    \n",
    "\n",
    "    for char in input_str:\n",
    "        s.push(char)\n",
    "\n",
    "    reversed_str = \"\".join(s.pop() for _ in range(s.size()))\n",
    "    \n",
    "    return reversed_str\n",
    "\n",
    "\n",
    "original = \"Hello world\"\n",
    "reversed_result = reverse_string(original)\n",
    "\n",
    "print(\"Original:\", original)\n",
    "print(\"Reversed:\", reversed_result)"
   ]
  },
  {
   "cell_type": "code",
   "execution_count": 33,
   "id": "a6b4e649-7b48-4f0b-aca1-881308354dfe",
   "metadata": {},
   "outputs": [
    {
     "name": "stdout",
     "output_type": "stream",
     "text": [
      "True\n",
      "False\n",
      "True\n",
      "True\n",
      "False\n",
      "True\n"
     ]
    }
   ],
   "source": [
    "class Stack2:\n",
    "    def __init__(self):\n",
    "        self.elements = deque() \n",
    "        self.item_count = 0\n",
    "\n",
    "    def is_empty(self):\n",
    "        return self.item_count == 0\n",
    "\n",
    "    def push(self, data):\n",
    "        self.elements.append(data)\n",
    "        self.item_count += 1\n",
    "\n",
    "    def pop(self):\n",
    "        if not self.is_empty():\n",
    "            self.item_count -= 1\n",
    "            return self.elements.pop()\n",
    "        else:\n",
    "            raise IndexError(\"Stack is Empty\")\n",
    "\n",
    "    def peek(self):\n",
    "        if not self.is_empty():\n",
    "            return self.elements[-1]\n",
    "        else:\n",
    "            raise IndexError(\"Stack is Empty\")\n",
    "\n",
    "    def size(self):\n",
    "        return self.item_count\n",
    "\n",
    "def is_match(ch1, ch2):\n",
    "    match_dict = {\n",
    "        ')': '(',\n",
    "        ']': '[',\n",
    "        '}': '{'\n",
    "    }\n",
    "    return match_dict[ch1] == ch2\n",
    "\n",
    "\n",
    "def is_balanced(s):\n",
    "    stack = Stack2()\n",
    "    for ch in s:\n",
    "        if ch in \"{([\":\n",
    "            stack.push(ch)\n",
    "            \n",
    "        if ch in \")}]\":\n",
    "            if stack.size()==0:\n",
    "                return False\n",
    "            if not is_match(ch,stack.pop()):\n",
    "                return False\n",
    "\n",
    "    return stack.size()==0\n",
    "\n",
    "\n",
    "\n",
    "print(is_balanced(\"({a+b})\"))\n",
    "print(is_balanced(\"))((a+b}{\"))\n",
    "print(is_balanced(\"((a+b))\"))\n",
    "print(is_balanced(\"((a+g))\"))\n",
    "print(is_balanced(\"))\"))\n",
    "print(is_balanced(\"[a+b]*(x+2y)*{gg+kk}\"))"
   ]
  },
  {
   "cell_type": "code",
   "execution_count": null,
   "id": "e066b145-4c7b-4b66-bb2d-34c3015668aa",
   "metadata": {},
   "outputs": [],
   "source": []
  }
 ],
 "metadata": {
  "kernelspec": {
   "display_name": "Python 3 (ipykernel)",
   "language": "python",
   "name": "python3"
  },
  "language_info": {
   "codemirror_mode": {
    "name": "ipython",
    "version": 3
   },
   "file_extension": ".py",
   "mimetype": "text/x-python",
   "name": "python",
   "nbconvert_exporter": "python",
   "pygments_lexer": "ipython3",
   "version": "3.13.2"
  }
 },
 "nbformat": 4,
 "nbformat_minor": 5
}
