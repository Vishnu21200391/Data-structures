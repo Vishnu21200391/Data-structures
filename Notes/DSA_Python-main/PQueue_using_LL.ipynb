{
 "cells": [
  {
   "cell_type": "code",
   "execution_count": 6,
   "id": "04791c84-e7d4-479f-94ee-91edc77d70e5",
   "metadata": {},
   "outputs": [
    {
     "name": "stdout",
     "output_type": "stream",
     "text": [
      "560\n",
      "20\n",
      "50\n",
      "10\n"
     ]
    }
   ],
   "source": [
    "class Node:\n",
    "    def __init__(self, item=None, prio = None, next = None):\n",
    "        self.item = item\n",
    "        self.prio = prio\n",
    "        self.next = next\n",
    "\n",
    "class PQueue:\n",
    "    def __init__(self):\n",
    "        self.start = None\n",
    "        self.item_count = 0\n",
    "\n",
    "    def is_empty(self):\n",
    "        return self.start is None\n",
    "\n",
    "\n",
    "    def push(self, data, prio):\n",
    "        n = Node(data, prio)\n",
    "        if not self.start or prio <= self.start.prio:\n",
    "            n.next = self.start\n",
    "            self.start = n\n",
    "        else:\n",
    "            temp = self.start\n",
    "            while temp.next and temp.next.prio < prio:\n",
    "                temp = temp.next\n",
    "            n.next = temp.next\n",
    "            temp.next = n\n",
    "        self.item_count += 1\n",
    "        \n",
    "    def pop(self):\n",
    "        if self.is_empty():\n",
    "            raise IndexError(\"Queue is Empty\")\n",
    "        data = self.start.item\n",
    "        self.start = self.start.next\n",
    "        self.item_count -= 1\n",
    "        return data\n",
    "\n",
    "    def size(self):\n",
    "        return self.item_count\n",
    "\n",
    "p = PQueue()\n",
    "\n",
    "p.push(10,6)\n",
    "p.push(20,2)\n",
    "p.push(50,4)\n",
    "p.push(560,1)\n",
    "\n",
    "while not p.is_empty():\n",
    "    print(p.pop())"
   ]
  },
  {
   "cell_type": "code",
   "execution_count": null,
   "id": "d303728e-d7ca-4776-8705-72acd543d87d",
   "metadata": {},
   "outputs": [],
   "source": []
  }
 ],
 "metadata": {
  "kernelspec": {
   "display_name": "Python 3 (ipykernel)",
   "language": "python",
   "name": "python3"
  },
  "language_info": {
   "codemirror_mode": {
    "name": "ipython",
    "version": 3
   },
   "file_extension": ".py",
   "mimetype": "text/x-python",
   "name": "python",
   "nbconvert_exporter": "python",
   "pygments_lexer": "ipython3",
   "version": "3.13.2"
  }
 },
 "nbformat": 4,
 "nbformat_minor": 5
}
