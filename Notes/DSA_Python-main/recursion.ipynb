{
 "cells": [
  {
   "cell_type": "code",
   "execution_count": 5,
   "id": "51c720dc-38b0-448c-a67e-528027a3e3e7",
   "metadata": {},
   "outputs": [
    {
     "name": "stdout",
     "output_type": "stream",
     "text": [
      "161028\n"
     ]
    }
   ],
   "source": [
    "def first_n_natural(n):\n",
    "    if n==1:\n",
    "        return 1\n",
    "    return n + first_n_natural(n-1)\n",
    "\n",
    "\n",
    "print(first_n_natural(567))"
   ]
  },
  {
   "cell_type": "code",
   "execution_count": 6,
   "id": "15b8ab82-65fe-46bc-b970-ccd65eabb30c",
   "metadata": {},
   "outputs": [],
   "source": [
    "#first n natural number"
   ]
  },
  {
   "cell_type": "code",
   "execution_count": 7,
   "id": "058c6318-c940-411a-81fd-29f729d977fa",
   "metadata": {},
   "outputs": [
    {
     "name": "stdout",
     "output_type": "stream",
     "text": [
      "1 2 3 4 5 6 7 8 9 10 "
     ]
    }
   ],
   "source": [
    "def printN(n):\n",
    "    if n > 0 :\n",
    "        printN(n-1)\n",
    "        print(n, end=\" \")\n",
    "\n",
    "printN(10)"
   ]
  },
  {
   "cell_type": "code",
   "execution_count": 10,
   "id": "c5c25b5a-03d6-463d-97ad-669bc8045f19",
   "metadata": {},
   "outputs": [
    {
     "name": "stdout",
     "output_type": "stream",
     "text": [
      "10 9 8 7 6 5 4 3 2 1 "
     ]
    }
   ],
   "source": [
    "#reverse n natural number\n",
    "def printreverse(n):\n",
    "    if n > 0 :\n",
    "        print(n, end=\" \")\n",
    "        printreverse(n-1)\n",
    "\n",
    "printreverse(10)"
   ]
  },
  {
   "cell_type": "code",
   "execution_count": 19,
   "id": "8ec0530f-9661-4ef9-89fd-e85e2253b348",
   "metadata": {},
   "outputs": [
    {
     "name": "stdout",
     "output_type": "stream",
     "text": [
      "1 3 5 7 9 11 13 15 17 19 "
     ]
    }
   ],
   "source": [
    "#odd n natural number\n",
    "def printOdd(n):\n",
    "    if n>0:\n",
    "        printOdd(n-1)\n",
    "        print(n*2-1,end=\" \")\n",
    "\n",
    "printOdd(10)"
   ]
  },
  {
   "cell_type": "code",
   "execution_count": 20,
   "id": "7820923d-9323-4c8f-97af-ccb9d52274d9",
   "metadata": {},
   "outputs": [
    {
     "name": "stdout",
     "output_type": "stream",
     "text": [
      "2 4 6 8 10 12 14 16 18 20 "
     ]
    }
   ],
   "source": [
    "#even n natural number\n",
    "def printEvem(n):\n",
    "    if n>0:\n",
    "        printEvem(n-1)\n",
    "        print(n*2,end=\" \")\n",
    "\n",
    "printEvem(10)"
   ]
  },
  {
   "cell_type": "code",
   "execution_count": 21,
   "id": "21eb2d5a-e22c-42df-9214-2a72241a0204",
   "metadata": {},
   "outputs": [
    {
     "name": "stdout",
     "output_type": "stream",
     "text": [
      "19 17 15 13 11 9 7 5 3 1 "
     ]
    }
   ],
   "source": [
    "#reverse odd n natural number\n",
    "def printOdd(n):\n",
    "    if n>0:\n",
    "        print(n*2-1,end=\" \")\n",
    "        printOdd(n-1)\n",
    "        \n",
    "\n",
    "printOdd(10)"
   ]
  },
  {
   "cell_type": "code",
   "execution_count": 23,
   "id": "56d0b402-2dcc-45df-9150-86c14d1ff241",
   "metadata": {},
   "outputs": [
    {
     "name": "stdout",
     "output_type": "stream",
     "text": [
      "20 18 16 14 12 10 8 6 4 2 "
     ]
    }
   ],
   "source": [
    "#reverse even n natural number\n",
    "def printOdd(n):\n",
    "    if n>0:\n",
    "        print(n*2,end=\" \")\n",
    "        printOdd(n-1)\n",
    "        \n",
    "printOdd(10)"
   ]
  },
  {
   "cell_type": "code",
   "execution_count": 11,
   "id": "e6e3d9b5-e710-489d-8d1e-daf8034eeb9e",
   "metadata": {},
   "outputs": [
    {
     "name": "stdout",
     "output_type": "stream",
     "text": [
      "15\n"
     ]
    }
   ],
   "source": [
    "# sum of first n natural number\n",
    "def sumN(n):\n",
    "    if n == 0:\n",
    "        return 0\n",
    "    else:\n",
    "        return n + sumN(n-1)\n",
    "\n",
    "print(sumN(5))\n"
   ]
  },
  {
   "cell_type": "code",
   "execution_count": 16,
   "id": "f48b6362-f28a-4eed-b4ac-72fb70208f9b",
   "metadata": {},
   "outputs": [
    {
     "name": "stdout",
     "output_type": "stream",
     "text": [
      "100\n"
     ]
    }
   ],
   "source": [
    "# sum of first n odd natural number\n",
    "def sumOdd(n):\n",
    "    if n == 0:\n",
    "        return 0\n",
    "    else:\n",
    "        return 2*n-1 + sumOdd(n-1)\n",
    "\n",
    "print(sumOdd(10))"
   ]
  },
  {
   "cell_type": "code",
   "execution_count": 18,
   "id": "09093e9b-31a0-4cfb-9f9e-ff3c8867cc38",
   "metadata": {},
   "outputs": [
    {
     "name": "stdout",
     "output_type": "stream",
     "text": [
      "110\n"
     ]
    }
   ],
   "source": [
    "# sum of first n Even natural number\n",
    "def sumEven(n):\n",
    "    if n == 1:\n",
    "        return 2\n",
    "    else:\n",
    "        return 2*n + sumEven(n-1)\n",
    "\n",
    "print(sumEven(10))"
   ]
  },
  {
   "cell_type": "code",
   "execution_count": 21,
   "id": "fe228bab-b7a0-45c6-b91f-5b760fa9d76c",
   "metadata": {},
   "outputs": [
    {
     "name": "stdout",
     "output_type": "stream",
     "text": [
      "120\n"
     ]
    }
   ],
   "source": [
    "# sum of first n natural number\n",
    "def sumFact(n):\n",
    "    if n == 0:\n",
    "        return 1\n",
    "    else:\n",
    "        return n * sumFact(n-1)\n",
    "\n",
    "print(sumFact(5))\n"
   ]
  },
  {
   "cell_type": "code",
   "execution_count": 24,
   "id": "50cead53-1e63-4482-b8f8-f477236bc6a6",
   "metadata": {},
   "outputs": [
    {
     "name": "stdout",
     "output_type": "stream",
     "text": [
      "55\n"
     ]
    }
   ],
   "source": [
    "# sum of first n natural number\n",
    "def sumSqr(n):\n",
    "    if n == 0:\n",
    "        return 0\n",
    "    else:\n",
    "        return n*n  +  sumSqr(n-1)\n",
    "\n",
    "print(sumSqr(5))\n"
   ]
  },
  {
   "cell_type": "code",
   "execution_count": null,
   "id": "5146589f-bfa9-4e19-b601-83a320810a12",
   "metadata": {},
   "outputs": [],
   "source": []
  }
 ],
 "metadata": {
  "kernelspec": {
   "display_name": "Python 3 (ipykernel)",
   "language": "python",
   "name": "python3"
  },
  "language_info": {
   "codemirror_mode": {
    "name": "ipython",
    "version": 3
   },
   "file_extension": ".py",
   "mimetype": "text/x-python",
   "name": "python",
   "nbconvert_exporter": "python",
   "pygments_lexer": "ipython3",
   "version": "3.13.2"
  }
 },
 "nbformat": 4,
 "nbformat_minor": 5
}
