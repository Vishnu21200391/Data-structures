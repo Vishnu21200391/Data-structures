{
 "cells": [
  {
   "cell_type": "code",
   "execution_count": 2,
   "id": "84164395-eb61-4b70-8412-a31cb19e803c",
   "metadata": {},
   "outputs": [],
   "source": [
    "class Graph:\n",
    "    def __init__(self,vertex):\n",
    "        self.vertex = vertex\n",
    "        self.edges = []\n",
    "        self.degrees = []\n",
    "\n",
    "    def add_edge(self, vi, vj, wt):\n",
    "        self.edges.append([vi, vj, wt])\n",
    "\n",
    "    def search(self, parent, i):\n",
    "        if parent[i] == i:\n",
    "            return i\n",
    "        return self.search(parent, parent[i])\n",
    "\n",
    "    def doUnion(self, parents, rank, a, b):\n",
    "        root_a = self.search(parent, a)\n",
    "        root_b = self.search(parent, b)\n",
    "\n",
    "        if rank[root_a] < rank[root_b]\n",
    "        "
   ]
  },
  {
   "cell_type": "code",
   "execution_count": 5,
   "id": "b4278e35-813c-4a1b-9f85-e94e36234585",
   "metadata": {},
   "outputs": [
    {
     "name": "stdout",
     "output_type": "stream",
     "text": [
      "4\n"
     ]
    }
   ],
   "source": [
    "def linear(arr):\n",
    "\n",
    "    for i in range(0, len(arr)-1, 2):\n",
    "        if arr[i] != arr[i+1]:\n",
    "            return arr[i]\n",
    "    return arr[-1]\n",
    "\n",
    "arr = [1, 1, 2, 2, 3, 3, 4, 5, 5]\n",
    "print(linear(arr))"
   ]
  },
  {
   "cell_type": "code",
   "execution_count": null,
   "id": "9b72d050-23fd-4224-ac17-f1466e4b1804",
   "metadata": {},
   "outputs": [],
   "source": [
    "def binary(arr):\n",
    "    low, high = 0, len(arr)-1\n",
    "\n",
    "    "
   ]
  }
 ],
 "metadata": {
  "kernelspec": {
   "display_name": "Python 3 (ipykernel)",
   "language": "python",
   "name": "python3"
  },
  "language_info": {
   "codemirror_mode": {
    "name": "ipython",
    "version": 3
   },
   "file_extension": ".py",
   "mimetype": "text/x-python",
   "name": "python",
   "nbconvert_exporter": "python",
   "pygments_lexer": "ipython3",
   "version": "3.13.2"
  }
 },
 "nbformat": 4,
 "nbformat_minor": 5
}
