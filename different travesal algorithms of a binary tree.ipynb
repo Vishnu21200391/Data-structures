{
 "cells": [
  {
   "cell_type": "code",
   "execution_count": 1,
   "id": "6a9309c3-afc0-43f0-9028-d20563514d3e",
   "metadata": {},
   "outputs": [],
   "source": [
    "class Node:\n",
    "    def __init__(self, data):\n",
    "        self.data = data\n",
    "        self.left = None\n",
    "        self.right = None\n"
   ]
  },
  {
   "cell_type": "code",
   "execution_count": 2,
   "id": "8dbf08af-ffe4-4513-9cd1-7bac1aa17967",
   "metadata": {},
   "outputs": [],
   "source": [
    "def inorder(root):\n",
    "    if root:\n",
    "        inorder(root.left)\n",
    "        print(root.data, end='->')\n",
    "        inorder(root.right)\n"
   ]
  },
  {
   "cell_type": "code",
   "execution_count": 3,
   "id": "d34ea807-71f0-4ca4-8d7a-228bac119f0c",
   "metadata": {},
   "outputs": [],
   "source": [
    "def preorder(root):\n",
    "    if root:\n",
    "        print(root.data, end=' -> ')\n",
    "        preorder(root.left)\n",
    "        preorder(root.right)\n"
   ]
  },
  {
   "cell_type": "code",
   "execution_count": 4,
   "id": "1bf3b1a0-a207-47e3-a3bc-5f4b66c3327e",
   "metadata": {},
   "outputs": [],
   "source": [
    "def postorder(root):\n",
    "    if root:\n",
    "        postorder(root.left)\n",
    "        postorder(root.right)\n",
    "        print(root.data, end=' -> ')\n"
   ]
  },
  {
   "cell_type": "code",
   "execution_count": 5,
   "id": "f58ee26a-8338-466b-9c5d-6bcf27f33252",
   "metadata": {},
   "outputs": [
    {
     "name": "stdout",
     "output_type": "stream",
     "text": [
      "Inorder:\n",
      "4->2->5->1->3->\n",
      "Preorder:\n",
      "1 -> 2 -> 4 -> 5 -> 3 -> \n",
      "Postorder:\n",
      "4 -> 5 -> 2 -> 3 -> 1 -> "
     ]
    }
   ],
   "source": [
    "# Constructing the tree\n",
    "root = Node(1)\n",
    "root.left = Node(2)\n",
    "root.right = Node(3)\n",
    "root.left.left = Node(4)\n",
    "root.left.right = Node(5)\n",
    "\n",
    "# Traversals\n",
    "print(\"Inorder:\")\n",
    "inorder(root)\n",
    "\n",
    "print(\"\\nPreorder:\")\n",
    "preorder(root)\n",
    "\n",
    "print(\"\\nPostorder:\")\n",
    "postorder(root)\n",
    "\n",
    "# print(\"\\nLevel Order:\")\n",
    "# level_order(root)\n"
   ]
  },
  {
   "cell_type": "code",
   "execution_count": null,
   "id": "9ab0ea11-1f4d-4225-8b43-3f9292f30b80",
   "metadata": {},
   "outputs": [],
   "source": []
  }
 ],
 "metadata": {
  "kernelspec": {
   "display_name": "Python 3 (ipykernel)",
   "language": "python",
   "name": "python3"
  },
  "language_info": {
   "codemirror_mode": {
    "name": "ipython",
    "version": 3
   },
   "file_extension": ".py",
   "mimetype": "text/x-python",
   "name": "python",
   "nbconvert_exporter": "python",
   "pygments_lexer": "ipython3",
   "version": "3.13.2"
  }
 },
 "nbformat": 4,
 "nbformat_minor": 5
}
