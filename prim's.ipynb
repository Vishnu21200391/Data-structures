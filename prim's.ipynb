{
 "cells": [
  {
   "cell_type": "code",
   "execution_count": 1,
   "id": "00842aee-a6b6-4322-8e6c-f85709301278",
   "metadata": {},
   "outputs": [],
   "source": [
    "import heapq\n",
    "\n",
    "def prim(n, graph):\n",
    "    visited = [False] * n\n",
    "    min_heap = [(0, 0)]  # (weight, node)\n",
    "    mst = []\n",
    "    total_cost = 0\n",
    "\n",
    "    while min_heap and len(mst) < n - 1:\n",
    "        weight, u = heapq.heappop(min_heap)\n",
    "        if visited[u]:\n",
    "            continue\n",
    "        visited[u] = True\n",
    "        total_cost += weight\n",
    "\n",
    "        for v, w in graph[u]:\n",
    "            if not visited[v]:\n",
    "                heapq.heappush(min_heap, (w, v))\n",
    "                mst.append((u, v, w))\n",
    "\n",
    "    return mst, total_cost\n"
   ]
  },
  {
   "cell_type": "code",
   "execution_count": 2,
   "id": "c18df719-367c-4ed3-bd05-5379966c1fad",
   "metadata": {},
   "outputs": [
    {
     "name": "stdout",
     "output_type": "stream",
     "text": [
      "MST: [(0, 1, 1), (0, 2, 3), (1, 2, 3), (1, 3, 6)]\n",
      "Cost: 1\n"
     ]
    }
   ],
   "source": [
    "# Graph as adjacency list: node -> list of (neighbor, weight)\n",
    "graph = {\n",
    "    0: [(1, 1), (2, 3)],\n",
    "    1: [(0, 1), (2, 3), (3, 6)],\n",
    "    2: [(0, 3), (1, 3), (3, 4), (4, 2)],\n",
    "    3: [(1, 6), (2, 4), (4, 5)],\n",
    "    4: [(2, 2), (3, 5)]\n",
    "}\n",
    "\n",
    "n = 5  # number of nodes (0 to 4)\n",
    "mst, cost = prim(n, graph)\n",
    "print(\"MST:\", mst)\n",
    "print(\"Cost:\", cost)\n"
   ]
  },
  {
   "cell_type": "code",
   "execution_count": null,
   "id": "c248ea00-aa3c-4d97-b33d-d4f68af18dcd",
   "metadata": {},
   "outputs": [],
   "source": []
  }
 ],
 "metadata": {
  "kernelspec": {
   "display_name": "Python 3 (ipykernel)",
   "language": "python",
   "name": "python3"
  },
  "language_info": {
   "codemirror_mode": {
    "name": "ipython",
    "version": 3
   },
   "file_extension": ".py",
   "mimetype": "text/x-python",
   "name": "python",
   "nbconvert_exporter": "python",
   "pygments_lexer": "ipython3",
   "version": "3.13.2"
  }
 },
 "nbformat": 4,
 "nbformat_minor": 5
}
