{
 "cells": [
  {
   "cell_type": "code",
   "execution_count": 6,
   "id": "65b996fe-4992-44eb-82eb-8f968d58c2e3",
   "metadata": {},
   "outputs": [
    {
     "name": "stdout",
     "output_type": "stream",
     "text": [
      "\n",
      "Circular Queue Operations:\n",
      "1. Enqueue\n",
      "2. Dequeue\n",
      "3. Peek\n",
      "4. Display\n",
      "5. Exit\n"
     ]
    },
    {
     "name": "stdin",
     "output_type": "stream",
     "text": [
      "Enter your choice:  1\n",
      "Enter data to enqueue:  10\n"
     ]
    },
    {
     "ename": "TypeError",
     "evalue": "Node() takes no arguments",
     "output_type": "error",
     "traceback": [
      "\u001b[31m---------------------------------------------------------------------------\u001b[39m",
      "\u001b[31mTypeError\u001b[39m                                 Traceback (most recent call last)",
      "\u001b[36mCell\u001b[39m\u001b[36m \u001b[39m\u001b[32mIn[6]\u001b[39m\u001b[32m, line 67\u001b[39m\n\u001b[32m     65\u001b[39m \u001b[38;5;28;01mif\u001b[39;00m choice == \u001b[33m\"\u001b[39m\u001b[33m1\u001b[39m\u001b[33m\"\u001b[39m:\n\u001b[32m     66\u001b[39m     data = \u001b[38;5;28minput\u001b[39m(\u001b[33m\"\u001b[39m\u001b[33mEnter data to enqueue: \u001b[39m\u001b[33m\"\u001b[39m)\n\u001b[32m---> \u001b[39m\u001b[32m67\u001b[39m     \u001b[43mcq\u001b[49m\u001b[43m.\u001b[49m\u001b[43menqueue\u001b[49m\u001b[43m(\u001b[49m\u001b[43mdata\u001b[49m\u001b[43m)\u001b[49m\n\u001b[32m     68\u001b[39m     \u001b[38;5;28mprint\u001b[39m(\u001b[33mf\u001b[39m\u001b[33m\"\u001b[39m\u001b[38;5;132;01m{\u001b[39;00mdata\u001b[38;5;132;01m}\u001b[39;00m\u001b[33m enqueued successfully.\u001b[39m\u001b[33m\"\u001b[39m)\n\u001b[32m     69\u001b[39m \u001b[38;5;28;01melif\u001b[39;00m choice == \u001b[33m\"\u001b[39m\u001b[33m2\u001b[39m\u001b[33m\"\u001b[39m:\n",
      "\u001b[36mCell\u001b[39m\u001b[36m \u001b[39m\u001b[32mIn[6]\u001b[39m\u001b[32m, line 15\u001b[39m, in \u001b[36mCircularQueue.enqueue\u001b[39m\u001b[34m(self, newdata)\u001b[39m\n\u001b[32m     14\u001b[39m \u001b[38;5;28;01mdef\u001b[39;00m\u001b[38;5;250m \u001b[39m\u001b[34menqueue\u001b[39m(\u001b[38;5;28mself\u001b[39m, newdata):\n\u001b[32m---> \u001b[39m\u001b[32m15\u001b[39m     n = \u001b[43mNode\u001b[49m\u001b[43m(\u001b[49m\u001b[43mnewdata\u001b[49m\u001b[43m)\u001b[49m\n\u001b[32m     16\u001b[39m     \u001b[38;5;28;01mif\u001b[39;00m \u001b[38;5;28mself\u001b[39m.is_empty():\n\u001b[32m     17\u001b[39m         n.next = n\n",
      "\u001b[31mTypeError\u001b[39m: Node() takes no arguments"
     ]
    }
   ],
   "source": [
    "class Node:\n",
    "    def _init_(self, newdata, link=None):\n",
    "        self.data = newdata\n",
    "        self.next = link\n",
    "\n",
    "\n",
    "class CircularQueue:\n",
    "    def _init_(self):\n",
    "        self.tail = None\n",
    "\n",
    "    def is_empty(self):\n",
    "        return self.tail is None\n",
    "\n",
    "    def enqueue(self, newdata):\n",
    "        n = Node(newdata)\n",
    "        if self.is_empty():\n",
    "            n.next = n\n",
    "            self.tail = n\n",
    "        else:\n",
    "            n.next = self.tail.next\n",
    "            self.tail.next = n\n",
    "            self.tail = n\n",
    "\n",
    "    def peek(self):\n",
    "        if self.is_empty():\n",
    "            raise Exception(\"Queue is empty\")\n",
    "        return self.tail.next.data\n",
    "\n",
    "    def dequeue(self):\n",
    "        if self.is_empty():\n",
    "            raise Exception(\"Queue is empty\")\n",
    "\n",
    "        frontnode = self.tail.next\n",
    "        if frontnode == self.tail:\n",
    "            self.tail = None\n",
    "        else:\n",
    "            self.tail.next = frontnode.next\n",
    "\n",
    "        return frontnode.data\n",
    "\n",
    "    def display(self):\n",
    "        if self.is_empty():\n",
    "            print(\"Queue is empty\")\n",
    "            return\n",
    "\n",
    "        curNode = self.tail.next\n",
    "        while curNode != self.tail:\n",
    "            print(curNode.data, end=\" -> \")\n",
    "            curNode = curNode.next\n",
    "        print(curNode.data)\n",
    "\n",
    "\n",
    "cq = CircularQueue()\n",
    "\n",
    "while True:\n",
    "    print(\"\\nCircular Queue Operations:\")\n",
    "    print(\"1. Enqueue\")\n",
    "    print(\"2. Dequeue\")\n",
    "    print(\"3. Peek\")\n",
    "    print(\"4. Display\")\n",
    "    print(\"5. Exit\")\n",
    "\n",
    "    choice = input(\"Enter your choice: \")\n",
    "\n",
    "    if choice == \"1\":\n",
    "        data = input(\"Enter data to enqueue: \")\n",
    "        cq.enqueue(data)\n",
    "        print(f\"{data} enqueued successfully.\")\n",
    "    elif choice == \"2\":\n",
    "        try:\n",
    "            print(\"Dequeued:\", cq.dequeue())\n",
    "        except Exception as e:\n",
    "            print(e)\n",
    "    elif choice == \"3\":\n",
    "        try:\n",
    "            print(\"Front element:\", cq.peek())\n",
    "        except Exception as e:\n",
    "            print(e)\n",
    "    elif choice == \"4\":\n",
    "        cq.display()\n",
    "    elif choice == \"5\":\n",
    "        print(\"Exiting...\")\n",
    "        break\n",
    "    else:\n",
    "        print(\"Invalid choice! Please try again.\")"
   ]
  },
  {
   "cell_type": "code",
   "execution_count": null,
   "id": "81f26e5e-5c8b-425b-9182-cd97878d7cdc",
   "metadata": {},
   "outputs": [],
   "source": []
  }
 ],
 "metadata": {
  "kernelspec": {
   "display_name": "Python 3 (ipykernel)",
   "language": "python",
   "name": "python3"
  },
  "language_info": {
   "codemirror_mode": {
    "name": "ipython",
    "version": 3
   },
   "file_extension": ".py",
   "mimetype": "text/x-python",
   "name": "python",
   "nbconvert_exporter": "python",
   "pygments_lexer": "ipython3",
   "version": "3.13.2"
  }
 },
 "nbformat": 4,
 "nbformat_minor": 5
}
