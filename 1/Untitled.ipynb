{
 "cells": [
  {
   "cell_type": "code",
   "execution_count": 19,
   "id": "e2ec044c-fc78-4357-b043-22fbc55584ec",
   "metadata": {},
   "outputs": [
    {
     "name": "stdin",
     "output_type": "stream",
     "text": [
      "Enter: hi\n"
     ]
    },
    {
     "name": "stdout",
     "output_type": "stream",
     "text": [
      "[]\n"
     ]
    }
   ],
   "source": [
    "String = input(\"Enter:\")\n",
    "vowels = \"AEIOUaeiou\"\n",
    "new_string = []\n",
    "if vowels in String:\n",
    "    \n",
    "print(new_String)"
   ]
  },
  {
   "cell_type": "code",
   "execution_count": null,
   "id": "ee319153-6d39-4f3e-804a-3bbca2e15d20",
   "metadata": {},
   "outputs": [],
   "source": []
  }
 ],
 "metadata": {
  "kernelspec": {
   "display_name": "Python 3 (ipykernel)",
   "language": "python",
   "name": "python3"
  },
  "language_info": {
   "codemirror_mode": {
    "name": "ipython",
    "version": 3
   },
   "file_extension": ".py",
   "mimetype": "text/x-python",
   "name": "python",
   "nbconvert_exporter": "python",
   "pygments_lexer": "ipython3",
   "version": "3.13.2"
  }
 },
 "nbformat": 4,
 "nbformat_minor": 5
}
