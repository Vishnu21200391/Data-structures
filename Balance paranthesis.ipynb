{
 "cells": [
  {
   "cell_type": "code",
   "execution_count": 7,
   "id": "3ce95543-a693-44d3-9a94-a99580027eb4",
   "metadata": {},
   "outputs": [],
   "source": [
    "def is_balanced(expr):\n",
    "    stack = []\n",
    "    opening = \"({[\"\n",
    "    closing = \")}]\"\n",
    "    matching = {')': '(', '}': '{', ']': '['}\n",
    "\n",
    "    for char in expr:\n",
    "        if char in opening:\n",
    "            stack.append(char)\n",
    "        elif char in closing:\n",
    "            if not stack or stack[-1] != matching[char]:\n",
    "                return False\n",
    "            stack.pop()\n",
    "\n",
    "    return not stack  # True if stack is empty\n"
   ]
  },
  {
   "cell_type": "code",
   "execution_count": 8,
   "id": "0febd298-3713-4ac7-990e-28ac9a505ea8",
   "metadata": {},
   "outputs": [
    {
     "name": "stdout",
     "output_type": "stream",
     "text": [
      "True\n",
      "True\n",
      "True\n",
      "False\n",
      "False\n"
     ]
    }
   ],
   "source": [
    "print(is_balanced(\"()\"))           # True\n",
    "print(is_balanced(\"({[]})\"))       # True\n",
    "print(is_balanced(\"((a+b))\"))      # True\n",
    "print(is_balanced(\"{[}]\"))         # False\n",
    "print(is_balanced(\"(\"))            # False\n"
   ]
  },
  {
   "cell_type": "code",
   "execution_count": null,
   "id": "f65f3d04-c99a-44eb-a05a-c024547efd6f",
   "metadata": {},
   "outputs": [],
   "source": []
  }
 ],
 "metadata": {
  "kernelspec": {
   "display_name": "Python 3 (ipykernel)",
   "language": "python",
   "name": "python3"
  },
  "language_info": {
   "codemirror_mode": {
    "name": "ipython",
    "version": 3
   },
   "file_extension": ".py",
   "mimetype": "text/x-python",
   "name": "python",
   "nbconvert_exporter": "python",
   "pygments_lexer": "ipython3",
   "version": "3.13.2"
  }
 },
 "nbformat": 4,
 "nbformat_minor": 5
}
