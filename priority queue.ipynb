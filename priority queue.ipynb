{
 "cells": [
  {
   "cell_type": "code",
   "execution_count": 4,
   "id": "f07e331c-01b3-4f39-86de-ddb5ddaf411d",
   "metadata": {},
   "outputs": [
    {
     "name": "stdout",
     "output_type": "stream",
     "text": [
      "Program to implement priority queue\n",
      "1.Enqueue\n",
      "2.Dequeue\n",
      "3.Peek\n",
      "4.Display\n",
      "5.Exit\n"
     ]
    },
    {
     "name": "stdin",
     "output_type": "stream",
     "text": [
      "Enter Your Choice:  1\n",
      "Enter the data:  10\n",
      "Enter the priority value: 12\n"
     ]
    },
    {
     "name": "stdout",
     "output_type": "stream",
     "text": [
      "Program to implement priority queue\n",
      "1.Enqueue\n",
      "2.Dequeue\n",
      "3.Peek\n",
      "4.Display\n",
      "5.Exit\n"
     ]
    },
    {
     "name": "stdin",
     "output_type": "stream",
     "text": [
      "Enter Your Choice:  5\n"
     ]
    },
    {
     "name": "stdout",
     "output_type": "stream",
     "text": [
      "Quitting...\n"
     ]
    }
   ],
   "source": [
    "class Node:\n",
    "    def __init__(self,NewData,NewPriority):\n",
    "        self.data=NewData\n",
    "        self.priority=NewPriority\n",
    "class PriorityQueue:\n",
    "    def __init__(self):\n",
    "        self.items=[]\n",
    "    def isempty(self):\n",
    "        return self.items==[]\n",
    "    def enqueue(self,item):\n",
    "        #find the appropriate position based on priority and insert it\n",
    "        for i in range(len(self.items)):\n",
    "            if item.priority >=self.items[i].priority:\n",
    "                self.items.insert(i,item)\n",
    "                break\n",
    "        else:\n",
    "            #if item has the lowest priority, append it at the end\n",
    "            self.items.append(item)\n",
    "    def dequeue(self):\n",
    "        #pop the item with the highest priority(front of the queue)\n",
    "        if not self.isempty():\n",
    "            return self.items.pop(0) #pop the item at the front of the queue\n",
    "    def peek(self):\n",
    "        #return the item with the highest priority (front of the queue)\n",
    "        if not self.isempty():\n",
    "            return self.items[0] #peek the front item\n",
    "    def size(self):\n",
    "        return len(self.items)\n",
    "    def display(self):\n",
    "        for item in self.items:\n",
    "            print('|', format(str(item.data)+\"(\"+ str(item.priority)+\")\",'>6'),end=\" \")\n",
    "        print(\"|\")\n",
    "\n",
    "#Driver code to test the priority queue\n",
    "q=PriorityQueue()\n",
    "while True:\n",
    "    print(\"Program to implement priority queue\")\n",
    "    print(\"1.Enqueue\")\n",
    "    print(\"2.Dequeue\")\n",
    "    print(\"3.Peek\")\n",
    "    print(\"4.Display\")\n",
    "    print(\"5.Exit\")\n",
    "    choice = int(input(\"Enter Your Choice: \"))\n",
    "    if choice == 1:\n",
    "        num = int(input(\"Enter the data: \"))\n",
    "        prio=int(input(\"Enter the priority value:\"))\n",
    "        newNode=Node(num,prio)\n",
    "        q.enqueue(newNode)\n",
    "    elif choice==2:\n",
    "        if q.isempty():\n",
    "            print(\"Queue Underflow\")\n",
    "        else:\n",
    "            popNode=q.dequeue()\n",
    "            print(\"Item dequeued:\",popNode.data,\"with priority\",popNode.priority)\n",
    "    elif choice==3:\n",
    "        if q.isempty():\n",
    "            print(\"Queue underflow\")\n",
    "        else:\n",
    "            popNode-q.peek()\n",
    "            print(\"Item at the front of the queue\",popNode.data,\"with priority\",popNode.priority)\n",
    "    elif choice==4:\n",
    "        if q.isempty():\n",
    "            print(\"Queue is emppty\")\n",
    "        else:\n",
    "            q.display()\n",
    "    elif choice==5:\n",
    "        print(\"Quitting...\")\n",
    "        break\n",
    "    else:\n",
    "        print(\"Invalid choice! please enter the correct choice\")\n",
    "        continue"
   ]
  },
  {
   "cell_type": "code",
   "execution_count": null,
   "id": "a60296ad-a81a-4426-8063-15f54bf5ef9d",
   "metadata": {},
   "outputs": [],
   "source": []
  }
 ],
 "metadata": {
  "kernelspec": {
   "display_name": "Python 3 (ipykernel)",
   "language": "python",
   "name": "python3"
  },
  "language_info": {
   "codemirror_mode": {
    "name": "ipython",
    "version": 3
   },
   "file_extension": ".py",
   "mimetype": "text/x-python",
   "name": "python",
   "nbconvert_exporter": "python",
   "pygments_lexer": "ipython3",
   "version": "3.13.2"
  }
 },
 "nbformat": 4,
 "nbformat_minor": 5
}
