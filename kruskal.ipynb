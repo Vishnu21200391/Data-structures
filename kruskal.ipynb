{
 "cells": [
  {
   "cell_type": "code",
   "execution_count": 18,
   "id": "b22cc049-7533-4c9b-93fc-33faa9e1b082",
   "metadata": {},
   "outputs": [],
   "source": [
    "def kruskal(n, edges):\n",
    "    parent = list(range(n))\n",
    "    def find(u):\n",
    "        while u != parent[u]:\n",
    "            u = parent[u]\n",
    "        return u\n",
    "\n",
    "    mst, cost = [], 0\n",
    "    for w, u, v in sorted(edges):\n",
    "        ru, rv = find(u), find(v)\n",
    "        if ru != rv:\n",
    "            parent[ru] = rv\n",
    "            mst.append((u, v, w))\n",
    "            cost += w\n",
    "    return mst, cost\n"
   ]
  },
  {
   "cell_type": "code",
   "execution_count": 19,
   "id": "7e520dfb-24db-493f-97ef-845fc4c65ba3",
   "metadata": {},
   "outputs": [
    {
     "name": "stdout",
     "output_type": "stream",
     "text": [
      "MST: [(0, 1, 1), (2, 4, 2), (0, 2, 3), (2, 3, 4)]\n",
      "Cost: 10\n"
     ]
    }
   ],
   "source": [
    "edges = [(1, 0, 1), (3, 0, 2), (3, 1, 2), (6, 1, 3), (4, 2, 3), (2, 2, 4), (5, 3, 4)]\n",
    "n = 5  # Number of nodes (0 to 4)\n",
    "mst, cost = kruskal(n, edges)\n",
    "print(\"MST:\", mst)\n",
    "print(\"Cost:\", cost)\n"
   ]
  },
  {
   "cell_type": "code",
   "execution_count": null,
   "id": "91e54848-c1fb-41dc-ae9b-c138697279fd",
   "metadata": {},
   "outputs": [],
   "source": []
  }
 ],
 "metadata": {
  "kernelspec": {
   "display_name": "Python 3 (ipykernel)",
   "language": "python",
   "name": "python3"
  },
  "language_info": {
   "codemirror_mode": {
    "name": "ipython",
    "version": 3
   },
   "file_extension": ".py",
   "mimetype": "text/x-python",
   "name": "python",
   "nbconvert_exporter": "python",
   "pygments_lexer": "ipython3",
   "version": "3.13.2"
  }
 },
 "nbformat": 4,
 "nbformat_minor": 5
}
